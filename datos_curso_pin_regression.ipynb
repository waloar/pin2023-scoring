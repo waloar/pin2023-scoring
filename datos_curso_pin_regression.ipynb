{
  "nbformat": 4,
  "nbformat_minor": 0,
  "metadata": {
    "colab": {
      "provenance": [],
      "include_colab_link": true
    },
    "kernelspec": {
      "name": "python3",
      "display_name": "Python 3"
    },
    "language_info": {
      "name": "python"
    }
  },
  "cells": [
    {
      "cell_type": "markdown",
      "metadata": {
        "id": "view-in-github",
        "colab_type": "text"
      },
      "source": [
        "<a href=\"https://colab.research.google.com/github/waloar/pin2023-scoring/blob/main/datos_curso_pin_regression.ipynb\" target=\"_parent\"><img src=\"https://colab.research.google.com/assets/colab-badge.svg\" alt=\"Open In Colab\"/></a>"
      ]
    },
    {
      "cell_type": "markdown",
      "source": [
        "References:\n",
        "[Default of Credit Card Clients Dataset](https://www.kaggle.com/datasets/uciml/default-of-credit-card-clients-dataset/code)\n"
      ],
      "metadata": {
        "id": "P6-KuSFs5UNY"
      }
    },
    {
      "cell_type": "markdown",
      "source": [
        "* [Logistic Regression Example](https://www.justintodata.com/logistic-regression-example-in-python/)\n",
        "* [EDA and Logistic Regression](https://www.kaggle.com/code/fegadeharish/eda-and-logistic-regression)\n",
        "* [Feature Selection](https://medium.com/@rithpansanga/logistic-regression-for-feature-selection-selecting-the-right-features-for-your-model-410ca093c5e0)\n",
        "* [Logistic Regression Tutorial](https://www.justintodata.com/logistic-regression-for-machine-learning-tutorial/)"
      ],
      "metadata": {
        "id": "VmXHNRFJObjq"
      }
    },
    {
      "cell_type": "code",
      "source": [
        "pip install toad"
      ],
      "metadata": {
        "colab": {
          "base_uri": "https://localhost:8080/"
        },
        "id": "eXNmu5WuRHgV",
        "outputId": "110774e0-d1b5-49ec-e6f9-09654fee0738"
      },
      "execution_count": 1,
      "outputs": [
        {
          "output_type": "stream",
          "name": "stdout",
          "text": [
            "Collecting toad\n",
            "  Downloading toad-0.1.2-cp310-cp310-manylinux_2_17_x86_64.manylinux2014_x86_64.whl (14.9 MB)\n",
            "\u001b[2K     \u001b[90m━━━━━━━━━━━━━━━━━━━━━━━━━━━━━━━━━━━━━━━━\u001b[0m \u001b[32m14.9/14.9 MB\u001b[0m \u001b[31m83.5 MB/s\u001b[0m eta \u001b[36m0:00:00\u001b[0m\n",
            "\u001b[?25hRequirement already satisfied: setuptools in /usr/local/lib/python3.10/dist-packages (from toad) (67.7.2)\n",
            "Requirement already satisfied: Cython>=0.29.15 in /usr/local/lib/python3.10/dist-packages (from toad) (0.29.36)\n",
            "Requirement already satisfied: numpy>=1.20 in /usr/local/lib/python3.10/dist-packages (from toad) (1.22.4)\n",
            "Requirement already satisfied: pandas in /usr/local/lib/python3.10/dist-packages (from toad) (1.5.3)\n",
            "Requirement already satisfied: scipy in /usr/local/lib/python3.10/dist-packages (from toad) (1.10.1)\n",
            "Requirement already satisfied: joblib>=0.12 in /usr/local/lib/python3.10/dist-packages (from toad) (1.3.1)\n",
            "Requirement already satisfied: scikit-learn>=0.21 in /usr/local/lib/python3.10/dist-packages (from toad) (1.2.2)\n",
            "Requirement already satisfied: seaborn>=0.10.0 in /usr/local/lib/python3.10/dist-packages (from toad) (0.12.2)\n",
            "Requirement already satisfied: threadpoolctl>=2.0.0 in /usr/local/lib/python3.10/dist-packages (from scikit-learn>=0.21->toad) (3.1.0)\n",
            "Requirement already satisfied: matplotlib!=3.6.1,>=3.1 in /usr/local/lib/python3.10/dist-packages (from seaborn>=0.10.0->toad) (3.7.1)\n",
            "Requirement already satisfied: python-dateutil>=2.8.1 in /usr/local/lib/python3.10/dist-packages (from pandas->toad) (2.8.2)\n",
            "Requirement already satisfied: pytz>=2020.1 in /usr/local/lib/python3.10/dist-packages (from pandas->toad) (2022.7.1)\n",
            "Requirement already satisfied: contourpy>=1.0.1 in /usr/local/lib/python3.10/dist-packages (from matplotlib!=3.6.1,>=3.1->seaborn>=0.10.0->toad) (1.1.0)\n",
            "Requirement already satisfied: cycler>=0.10 in /usr/local/lib/python3.10/dist-packages (from matplotlib!=3.6.1,>=3.1->seaborn>=0.10.0->toad) (0.11.0)\n",
            "Requirement already satisfied: fonttools>=4.22.0 in /usr/local/lib/python3.10/dist-packages (from matplotlib!=3.6.1,>=3.1->seaborn>=0.10.0->toad) (4.40.0)\n",
            "Requirement already satisfied: kiwisolver>=1.0.1 in /usr/local/lib/python3.10/dist-packages (from matplotlib!=3.6.1,>=3.1->seaborn>=0.10.0->toad) (1.4.4)\n",
            "Requirement already satisfied: packaging>=20.0 in /usr/local/lib/python3.10/dist-packages (from matplotlib!=3.6.1,>=3.1->seaborn>=0.10.0->toad) (23.1)\n",
            "Requirement already satisfied: pillow>=6.2.0 in /usr/local/lib/python3.10/dist-packages (from matplotlib!=3.6.1,>=3.1->seaborn>=0.10.0->toad) (8.4.0)\n",
            "Requirement already satisfied: pyparsing>=2.3.1 in /usr/local/lib/python3.10/dist-packages (from matplotlib!=3.6.1,>=3.1->seaborn>=0.10.0->toad) (3.1.0)\n",
            "Requirement already satisfied: six>=1.5 in /usr/local/lib/python3.10/dist-packages (from python-dateutil>=2.8.1->pandas->toad) (1.16.0)\n",
            "Installing collected packages: toad\n",
            "Successfully installed toad-0.1.2\n"
          ]
        }
      ]
    },
    {
      "cell_type": "code",
      "source": [
        "pip install sidetable\n"
      ],
      "metadata": {
        "colab": {
          "base_uri": "https://localhost:8080/"
        },
        "id": "riPJQeJKRo2w",
        "outputId": "bd048efe-dce2-45b4-f135-db1c53de0c71"
      },
      "execution_count": 2,
      "outputs": [
        {
          "output_type": "stream",
          "name": "stdout",
          "text": [
            "Collecting sidetable\n",
            "  Downloading sidetable-0.9.1-py3-none-any.whl (19 kB)\n",
            "Requirement already satisfied: pandas>=1.0 in /usr/local/lib/python3.10/dist-packages (from sidetable) (1.5.3)\n",
            "Requirement already satisfied: python-dateutil>=2.8.1 in /usr/local/lib/python3.10/dist-packages (from pandas>=1.0->sidetable) (2.8.2)\n",
            "Requirement already satisfied: pytz>=2020.1 in /usr/local/lib/python3.10/dist-packages (from pandas>=1.0->sidetable) (2022.7.1)\n",
            "Requirement already satisfied: numpy>=1.21.0 in /usr/local/lib/python3.10/dist-packages (from pandas>=1.0->sidetable) (1.22.4)\n",
            "Requirement already satisfied: six>=1.5 in /usr/local/lib/python3.10/dist-packages (from python-dateutil>=2.8.1->pandas>=1.0->sidetable) (1.16.0)\n",
            "Installing collected packages: sidetable\n",
            "Successfully installed sidetable-0.9.1\n"
          ]
        }
      ]
    },
    {
      "cell_type": "markdown",
      "source": [
        "# Notas\n",
        "## dealing with Nan\n",
        "Without much more information we can't give you guaranteed advice here.\n",
        "\n",
        "* You can remove rows of data. However, this will cause problems if they are not randomly missing. For instance, the fact that they are missing may indicate something about them (such as they are not an engaged customer).\n",
        "* You can impute values if you have a means to do so.\n",
        "* You can remove columns of data with missing values.\n",
        "* You can bin your data. Example: Answer1, Answer2, MissingValue.Other.\n",
        "* You can determine that you do not have enough data in the sample to adequately represent the population you are trying to estimate and you can go get more data.\n",
        "\n",
        "\n"
      ],
      "metadata": {
        "id": "UJXD7kUm4yAU"
      }
    },
    {
      "cell_type": "markdown",
      "source": [
        "# Importa Librerias y Dataset"
      ],
      "metadata": {
        "id": "DE29UL2Kc7ri"
      }
    },
    {
      "cell_type": "code",
      "execution_count": 3,
      "metadata": {
        "id": "zONGA5AdHPRJ"
      },
      "outputs": [],
      "source": [
        "import pandas as pd\n",
        "import numpy as np\n",
        "import matplotlib.pyplot as plt\n",
        "import matplotlib\n",
        "import seaborn as sns\n",
        "import toad\n",
        "import sidetable\n",
        "import time\n",
        "from toad.plot import  bin_plot, badrate_plot\n",
        "\n"
      ]
    },
    {
      "cell_type": "code",
      "source": [
        "from google.colab import drive\n",
        "drive.mount('/content/drive/')"
      ],
      "metadata": {
        "colab": {
          "base_uri": "https://localhost:8080/"
        },
        "id": "genV1zbyH2G1",
        "outputId": "880e2fb8-51db-487f-8553-a274b340e0cc"
      },
      "execution_count": 4,
      "outputs": [
        {
          "output_type": "stream",
          "name": "stdout",
          "text": [
            "Mounted at /content/drive/\n"
          ]
        }
      ]
    },
    {
      "cell_type": "code",
      "source": [
        "df = pd.read_csv('/content/drive/MyDrive/pin-ds2023/dato_curso_con_mora.csv')\n"
      ],
      "metadata": {
        "id": "IE0ghvLJH4ew"
      },
      "execution_count": 5,
      "outputs": []
    },
    {
      "cell_type": "markdown",
      "source": [
        "# Explora los datos"
      ],
      "metadata": {
        "id": "Z8tmzJ59dFAL"
      }
    },
    {
      "cell_type": "code",
      "source": [
        "df.info()"
      ],
      "metadata": {
        "colab": {
          "base_uri": "https://localhost:8080/"
        },
        "id": "1-20C-WFII7X",
        "outputId": "878be12e-d485-4ae7-80ea-051814569740"
      },
      "execution_count": 6,
      "outputs": [
        {
          "output_type": "stream",
          "name": "stdout",
          "text": [
            "<class 'pandas.core.frame.DataFrame'>\n",
            "RangeIndex: 215549 entries, 0 to 215548\n",
            "Data columns (total 16 columns):\n",
            " #   Column                   Non-Null Count   Dtype  \n",
            "---  ------                   --------------   -----  \n",
            " 0   idPersona                215549 non-null  int64  \n",
            " 1   sexo                     215549 non-null  object \n",
            " 2   tipoCliente              215549 non-null  object \n",
            " 3   tipoMora                 215549 non-null  object \n",
            " 4   figuraEnBoletin          215549 non-null  int64  \n",
            " 5   situacionBCRA            156822 non-null  float64\n",
            " 6   CantidadCreditos         215549 non-null  int64  \n",
            " 7   deuda                    215549 non-null  float64\n",
            " 8   ingreso_mensual_interno  215549 non-null  float64\n",
            " 9   ingreso_mensual_afip     215549 non-null  float64\n",
            " 10  ingreso_mensual_total    215549 non-null  float64\n",
            " 11  monotributo              28487 non-null   object \n",
            " 12  categoria                215549 non-null  object \n",
            " 13  edad                     215549 non-null  float64\n",
            " 14  dias_ultimo_credito      215549 non-null  int64  \n",
            " 15  moroso                   215549 non-null  int64  \n",
            "dtypes: float64(6), int64(5), object(5)\n",
            "memory usage: 26.3+ MB\n"
          ]
        }
      ]
    },
    {
      "cell_type": "code",
      "source": [
        "g = sns.FacetGrid(df, row='moroso', col='sexo')\n",
        "g = g.map(plt.hist, 'edad')\n",
        "plt.show()"
      ],
      "metadata": {
        "colab": {
          "base_uri": "https://localhost:8080/",
          "height": 601
        },
        "id": "6-lOfZReI8X-",
        "outputId": "545ec0d1-0d14-44d2-f927-1241d3f375d4"
      },
      "execution_count": 7,
      "outputs": [
        {
          "output_type": "display_data",
          "data": {
            "text/plain": [
              "<Figure size 900x600 with 6 Axes>"
            ],
            "image/png": "[encoded data removed]"
          },
          "metadata": {}
        }
      ]
    },
    {
      "cell_type": "markdown",
      "source": [
        "### Plotea una matriz de correlacion entre los datos con un mapa de calor."
      ],
      "metadata": {
        "id": "G8Xi9enlMYeW"
      }
    },
    {
      "cell_type": "code",
      "source": [
        "plt.subplots(figsize=(30,20))\n",
        "sns.heatmap(df.corr(), annot=True)\n",
        "plt.show()"
      ],
      "metadata": {
        "colab": {
          "base_uri": "https://localhost:8080/",
          "height": 1000
        },
        "id": "Vy3dX_-AMQPY",
        "outputId": "8bda258a-6c8a-4c42-a90c-0b127ab19aa2"
      },
      "execution_count": 8,
      "outputs": [
        {
          "output_type": "stream",
          "name": "stderr",
          "text": [
            "<ipython-input-8-1efde34fe039>:2: FutureWarning: The default value of numeric_only in DataFrame.corr is deprecated. In a future version, it will default to False. Select only valid columns or specify the value of numeric_only to silence this warning.\n",
            "  sns.heatmap(df.corr(), annot=True)\n"
          ]
        },
        {
          "output_type": "display_data",
          "data": {
            "text/plain": [
              "<Figure size 3000x2000 with 2 Axes>"
            ],
            "image/png": "[encoded data removed]"
          },
          "metadata": {}
        }
      ]
    },
    {
      "cell_type": "code",
      "source": [
        "df.info()"
      ],
      "metadata": {
        "colab": {
          "base_uri": "https://localhost:8080/"
        },
        "id": "bEmK0U9JJR4o",
        "outputId": "38340a5b-a156-46d5-8af4-317275f5b09f"
      },
      "execution_count": 9,
      "outputs": [
        {
          "output_type": "stream",
          "name": "stdout",
          "text": [
            "<class 'pandas.core.frame.DataFrame'>\n",
            "RangeIndex: 215549 entries, 0 to 215548\n",
            "Data columns (total 16 columns):\n",
            " #   Column                   Non-Null Count   Dtype  \n",
            "---  ------                   --------------   -----  \n",
            " 0   idPersona                215549 non-null  int64  \n",
            " 1   sexo                     215549 non-null  object \n",
            " 2   tipoCliente              215549 non-null  object \n",
            " 3   tipoMora                 215549 non-null  object \n",
            " 4   figuraEnBoletin          215549 non-null  int64  \n",
            " 5   situacionBCRA            156822 non-null  float64\n",
            " 6   CantidadCreditos         215549 non-null  int64  \n",
            " 7   deuda                    215549 non-null  float64\n",
            " 8   ingreso_mensual_interno  215549 non-null  float64\n",
            " 9   ingreso_mensual_afip     215549 non-null  float64\n",
            " 10  ingreso_mensual_total    215549 non-null  float64\n",
            " 11  monotributo              28487 non-null   object \n",
            " 12  categoria                215549 non-null  object \n",
            " 13  edad                     215549 non-null  float64\n",
            " 14  dias_ultimo_credito      215549 non-null  int64  \n",
            " 15  moroso                   215549 non-null  int64  \n",
            "dtypes: float64(6), int64(5), object(5)\n",
            "memory usage: 26.3+ MB\n"
          ]
        }
      ]
    },
    {
      "cell_type": "code",
      "source": [
        "df['tipoMora'].unique()"
      ],
      "metadata": {
        "colab": {
          "base_uri": "https://localhost:8080/"
        },
        "id": "1Uo56kEiwNt3",
        "outputId": "253e77c3-fc95-4748-e14a-9695a56c8438"
      },
      "execution_count": 10,
      "outputs": [
        {
          "output_type": "execute_result",
          "data": {
            "text/plain": [
              "array(['BPG', 'M90', 'M18', 'MPE', 'M30', 'M60', 'M12', 'MTP'],\n",
              "      dtype=object)"
            ]
          },
          "metadata": {},
          "execution_count": 10
        }
      ]
    },
    {
      "cell_type": "code",
      "source": [
        "# bins = [['BPG','MTP'],['M30','M60','M90','M12'],['M180','MPE']]\n",
        "# names = ['BPG','M30-120','M180-PE']\n",
        "# df['tipoMora_bin'] = pd.cut(x=df.tipoMora, bins=bins, labels=names, right=True)\n"
      ],
      "metadata": {
        "id": "0WHNZhWWwT3S"
      },
      "execution_count": 11,
      "outputs": []
    },
    {
      "cell_type": "code",
      "source": [
        "df['situacionBCRA'].unique()"
      ],
      "metadata": {
        "colab": {
          "base_uri": "https://localhost:8080/"
        },
        "id": "-bb-5J4JwKV9",
        "outputId": "410b0e41-0cb0-44b7-fbb2-d94313574776"
      },
      "execution_count": 12,
      "outputs": [
        {
          "output_type": "execute_result",
          "data": {
            "text/plain": [
              "array([ 1., nan,  5.,  3.,  2.,  4.])"
            ]
          },
          "metadata": {},
          "execution_count": 12
        }
      ]
    },
    {
      "cell_type": "markdown",
      "source": [
        "## convierte situacionBCRA en string y elimina idPersona"
      ],
      "metadata": {
        "id": "Ckg5ie1XjC3x"
      }
    },
    {
      "cell_type": "code",
      "source": [
        " df['situacionBCRA']=df.situacionBCRA.astype(\"string\")\n",
        " df=df.drop(['idPersona'], axis=1)"
      ],
      "metadata": {
        "id": "un5e_NnJnovx"
      },
      "execution_count": 13,
      "outputs": []
    },
    {
      "cell_type": "code",
      "source": [
        "df.info()"
      ],
      "metadata": {
        "colab": {
          "base_uri": "https://localhost:8080/"
        },
        "id": "82P54-Z66Wq8",
        "outputId": "22af1882-ba78-488d-ffde-204e48db1846"
      },
      "execution_count": 14,
      "outputs": [
        {
          "output_type": "stream",
          "name": "stdout",
          "text": [
            "<class 'pandas.core.frame.DataFrame'>\n",
            "RangeIndex: 215549 entries, 0 to 215548\n",
            "Data columns (total 15 columns):\n",
            " #   Column                   Non-Null Count   Dtype  \n",
            "---  ------                   --------------   -----  \n",
            " 0   sexo                     215549 non-null  object \n",
            " 1   tipoCliente              215549 non-null  object \n",
            " 2   tipoMora                 215549 non-null  object \n",
            " 3   figuraEnBoletin          215549 non-null  int64  \n",
            " 4   situacionBCRA            156822 non-null  string \n",
            " 5   CantidadCreditos         215549 non-null  int64  \n",
            " 6   deuda                    215549 non-null  float64\n",
            " 7   ingreso_mensual_interno  215549 non-null  float64\n",
            " 8   ingreso_mensual_afip     215549 non-null  float64\n",
            " 9   ingreso_mensual_total    215549 non-null  float64\n",
            " 10  monotributo              28487 non-null   object \n",
            " 11  categoria                215549 non-null  object \n",
            " 12  edad                     215549 non-null  float64\n",
            " 13  dias_ultimo_credito      215549 non-null  int64  \n",
            " 14  moroso                   215549 non-null  int64  \n",
            "dtypes: float64(5), int64(4), object(5), string(1)\n",
            "memory usage: 24.7+ MB\n"
          ]
        }
      ]
    },
    {
      "cell_type": "markdown",
      "source": [
        "# Variables en Dummies\n",
        "### Convierte las variables object en int mediante la funciona dummies\n",
        "* Crea la columna nan de cada atributo."
      ],
      "metadata": {
        "id": "WAPCQNqyy9q1"
      }
    },
    {
      "cell_type": "code",
      "source": [
        "df = pd.get_dummies(df,columns=['sexo','tipoMora','categoria','monotributo','tipoCliente','situacionBCRA'],dtype='int64',dummy_na=True)"
      ],
      "metadata": {
        "id": "qPqHQKaCj3v2"
      },
      "execution_count": 15,
      "outputs": []
    },
    {
      "cell_type": "code",
      "source": [
        "df.info()"
      ],
      "metadata": {
        "colab": {
          "base_uri": "https://localhost:8080/"
        },
        "id": "DzXBC0fgkIbe",
        "outputId": "d2e27be1-199e-4a60-a278-48624c669932"
      },
      "execution_count": 16,
      "outputs": [
        {
          "output_type": "stream",
          "name": "stdout",
          "text": [
            "<class 'pandas.core.frame.DataFrame'>\n",
            "RangeIndex: 215549 entries, 0 to 215548\n",
            "Data columns (total 53 columns):\n",
            " #   Column                    Non-Null Count   Dtype  \n",
            "---  ------                    --------------   -----  \n",
            " 0   figuraEnBoletin           215549 non-null  int64  \n",
            " 1   CantidadCreditos          215549 non-null  int64  \n",
            " 2   deuda                     215549 non-null  float64\n",
            " 3   ingreso_mensual_interno   215549 non-null  float64\n",
            " 4   ingreso_mensual_afip      215549 non-null  float64\n",
            " 5   ingreso_mensual_total     215549 non-null  float64\n",
            " 6   edad                      215549 non-null  float64\n",
            " 7   dias_ultimo_credito       215549 non-null  int64  \n",
            " 8   moroso                    215549 non-null  int64  \n",
            " 9   sexo_FEMENINO             215549 non-null  int64  \n",
            " 10  sexo_GENERICO             215549 non-null  int64  \n",
            " 11  sexo_MASCULINO            215549 non-null  int64  \n",
            " 12  sexo_nan                  215549 non-null  int64  \n",
            " 13  tipoMora_BPG              215549 non-null  int64  \n",
            " 14  tipoMora_M12              215549 non-null  int64  \n",
            " 15  tipoMora_M18              215549 non-null  int64  \n",
            " 16  tipoMora_M30              215549 non-null  int64  \n",
            " 17  tipoMora_M60              215549 non-null  int64  \n",
            " 18  tipoMora_M90              215549 non-null  int64  \n",
            " 19  tipoMora_MPE              215549 non-null  int64  \n",
            " 20  tipoMora_MTP              215549 non-null  int64  \n",
            " 21  tipoMora_nan              215549 non-null  int64  \n",
            " 22  categoria_DNI             215549 non-null  int64  \n",
            " 23  categoria_JUBILADO        215549 non-null  int64  \n",
            " 24  categoria_MONOTRIBUTISTA  215549 non-null  int64  \n",
            " 25  categoria_RECIBO          215549 non-null  int64  \n",
            " 26  categoria_nan             215549 non-null  int64  \n",
            " 27  monotributo_A             215549 non-null  int64  \n",
            " 28  monotributo_AC            215549 non-null  int64  \n",
            " 29  monotributo_AL            215549 non-null  int64  \n",
            " 30  monotributo_AP            215549 non-null  int64  \n",
            " 31  monotributo_AT            215549 non-null  int64  \n",
            " 32  monotributo_AV            215549 non-null  int64  \n",
            " 33  monotributo_B             215549 non-null  int64  \n",
            " 34  monotributo_C             215549 non-null  int64  \n",
            " 35  monotributo_D             215549 non-null  int64  \n",
            " 36  monotributo_E             215549 non-null  int64  \n",
            " 37  monotributo_F             215549 non-null  int64  \n",
            " 38  monotributo_G             215549 non-null  int64  \n",
            " 39  monotributo_H             215549 non-null  int64  \n",
            " 40  monotributo_I             215549 non-null  int64  \n",
            " 41  monotributo_J             215549 non-null  int64  \n",
            " 42  monotributo_K             215549 non-null  int64  \n",
            " 43  monotributo_nan           215549 non-null  int64  \n",
            " 44  tipoCliente_N             215549 non-null  int64  \n",
            " 45  tipoCliente_R             215549 non-null  int64  \n",
            " 46  tipoCliente_nan           215549 non-null  int64  \n",
            " 47  situacionBCRA_1.0         215549 non-null  int64  \n",
            " 48  situacionBCRA_2.0         215549 non-null  int64  \n",
            " 49  situacionBCRA_3.0         215549 non-null  int64  \n",
            " 50  situacionBCRA_4.0         215549 non-null  int64  \n",
            " 51  situacionBCRA_5.0         215549 non-null  int64  \n",
            " 52  situacionBCRA_<NA>        215549 non-null  int64  \n",
            "dtypes: float64(5), int64(48)\n",
            "memory usage: 87.2 MB\n"
          ]
        }
      ]
    },
    {
      "cell_type": "code",
      "source": [
        "# change the datatype of categorical features from integer to category\n",
        "# df.sexo = df.sexo.astype(\"string\")\n",
        "# df.tipoCliente = df.tipoCliente.astype(\"string\")\n",
        "# df.tipoMora = df.tipoMora.astype(\"string\")\n",
        "# df.situacionBCRA=df.situacionBCRA.astype(\"category\")\n",
        "# df.monotributo=df.monotributo.astype(\"string\")\n",
        "# df.categoria=df.categoria.astype(\"string\")\n",
        "# df.situacionBCRA=df.situacionBCRA.astype(\"string\")\n",
        "# df.figuraEnBoletin=df.figuraEnBoletin.astype(\"category\")\n"
      ],
      "metadata": {
        "id": "l_GPR21YLwaf"
      },
      "execution_count": 17,
      "outputs": []
    },
    {
      "cell_type": "code",
      "source": [
        "df=df.drop(['sexo_nan','tipoCliente_nan','monotributo_nan','categoria_nan','tipoMora_nan','situacionBCRA_<NA>'], axis=1)"
      ],
      "metadata": {
        "id": "-_sPVkNbp56X"
      },
      "execution_count": 18,
      "outputs": []
    },
    {
      "cell_type": "markdown",
      "source": [
        "# Balancea la clase"
      ],
      "metadata": {
        "id": "p2b5tO0lhZoi"
      }
    },
    {
      "cell_type": "code",
      "source": [
        "from sklearn.model_selection import train_test_split\n",
        "from sklearn.metrics import accuracy_score,classification_report,confusion_matrix,mean_squared_error\n",
        "from sklearn.feature_selection import SelectKBest, chi2,RFE\n",
        "\n",
        "import warnings\n",
        "warnings.filterwarnings('ignore')\n",
        "%matplotlib inline"
      ],
      "metadata": {
        "id": "6ey_jRAhQkA4"
      },
      "execution_count": 19,
      "outputs": []
    },
    {
      "cell_type": "markdown",
      "source": [
        "Analiza el balanceo de la clase moroso"
      ],
      "metadata": {
        "id": "_DxBQwrQzpxU"
      }
    },
    {
      "cell_type": "code",
      "source": [
        "tab = round(df.stb.freq(['moroso']), 2)\n",
        "print( 'Tabla de frecuencia: ' )\n",
        "print(tab)"
      ],
      "metadata": {
        "colab": {
          "base_uri": "https://localhost:8080/"
        },
        "id": "MNxMShfTzmFa",
        "outputId": "38f7eac2-df6e-4b24-b1f4-1491a9cc8450"
      },
      "execution_count": 20,
      "outputs": [
        {
          "output_type": "stream",
          "name": "stdout",
          "text": [
            "Tabla de frecuencia: \n",
            "   moroso   count  percent  cumulative_count  cumulative_percent\n",
            "0       0  135139     62.7            135139                62.7\n",
            "1       1   80410     37.3            215549               100.0\n"
          ]
        }
      ]
    },
    {
      "cell_type": "markdown",
      "source": [
        "Balanceamos con resample (podemos usar SMOTE - probar)"
      ],
      "metadata": {
        "id": "Jy4QlKly3Eap"
      }
    },
    {
      "cell_type": "code",
      "source": [
        "#Downsampling and Upsampling\n",
        "morosos = df[df['moroso'] == 1]\n",
        "no_morosos  = df[df['moroso'] == 0]\n",
        "print(morosos.shape)\n",
        "print(no_morosos.shape)"
      ],
      "metadata": {
        "colab": {
          "base_uri": "https://localhost:8080/"
        },
        "id": "mASkQrZJzvbm",
        "outputId": "2ea3d453-3447-47c5-a08e-9471c9d97ca8"
      },
      "execution_count": 21,
      "outputs": [
        {
          "output_type": "stream",
          "name": "stdout",
          "text": [
            "(80410, 47)\n",
            "(135139, 47)\n"
          ]
        }
      ]
    },
    {
      "cell_type": "code",
      "source": [
        "# Upsampling\n",
        "from sklearn.utils import resample\n",
        "\n",
        "up = resample(morosos,\n",
        "             replace = True,\n",
        "             n_samples = len(no_morosos),\n",
        "             random_state = 39)\n",
        "\n",
        "print(up.shape)\n",
        "\n",
        "sampling = pd.concat([up, no_morosos])\n",
        "\n",
        "print(sampling['moroso'].value_counts())\n",
        "\n"
      ],
      "metadata": {
        "colab": {
          "base_uri": "https://localhost:8080/"
        },
        "id": "97BvAN1l2-kM",
        "outputId": "23b0518d-0467-432f-bdb1-4897a9a95aaf"
      },
      "execution_count": 22,
      "outputs": [
        {
          "output_type": "stream",
          "name": "stdout",
          "text": [
            "(135139, 47)\n",
            "1    135139\n",
            "0    135139\n",
            "Name: moroso, dtype: int64\n"
          ]
        }
      ]
    },
    {
      "cell_type": "code",
      "source": [
        "tab = round(sampling.stb.freq(['moroso']), 2)\n",
        "print( 'Tabla de frecuencia: ' )\n",
        "print(tab)"
      ],
      "metadata": {
        "colab": {
          "base_uri": "https://localhost:8080/"
        },
        "id": "aQH2BJbz3alA",
        "outputId": "9a309e83-a367-4a2d-ea45-e8bf991dc5e8"
      },
      "execution_count": 23,
      "outputs": [
        {
          "output_type": "stream",
          "name": "stdout",
          "text": [
            "Tabla de frecuencia: \n",
            "   moroso   count  percent  cumulative_count  cumulative_percent\n",
            "0       1  135139     50.0            135139                50.0\n",
            "1       0  135139     50.0            270278               100.0\n"
          ]
        }
      ]
    },
    {
      "cell_type": "code",
      "source": [
        "round(sampling[sampling['moroso'].notna()].stb.freq(['moroso']),2)\n",
        "sampling['moroso']=df.moroso.astype(\"category\")\n"
      ],
      "metadata": {
        "id": "CxcH8__nbTax"
      },
      "execution_count": 24,
      "outputs": []
    },
    {
      "cell_type": "code",
      "source": [
        "sampling.info()"
      ],
      "metadata": {
        "colab": {
          "base_uri": "https://localhost:8080/"
        },
        "id": "rX70V709zprQ",
        "outputId": "0903b90f-cdf1-4b94-abe3-052bd34faab6"
      },
      "execution_count": 25,
      "outputs": [
        {
          "output_type": "stream",
          "name": "stdout",
          "text": [
            "<class 'pandas.core.frame.DataFrame'>\n",
            "Int64Index: 270278 entries, 155745 to 215548\n",
            "Data columns (total 47 columns):\n",
            " #   Column                    Non-Null Count   Dtype   \n",
            "---  ------                    --------------   -----   \n",
            " 0   figuraEnBoletin           270278 non-null  int64   \n",
            " 1   CantidadCreditos          270278 non-null  int64   \n",
            " 2   deuda                     270278 non-null  float64 \n",
            " 3   ingreso_mensual_interno   270278 non-null  float64 \n",
            " 4   ingreso_mensual_afip      270278 non-null  float64 \n",
            " 5   ingreso_mensual_total     270278 non-null  float64 \n",
            " 6   edad                      270278 non-null  float64 \n",
            " 7   dias_ultimo_credito       270278 non-null  int64   \n",
            " 8   moroso                    270278 non-null  category\n",
            " 9   sexo_FEMENINO             270278 non-null  int64   \n",
            " 10  sexo_GENERICO             270278 non-null  int64   \n",
            " 11  sexo_MASCULINO            270278 non-null  int64   \n",
            " 12  tipoMora_BPG              270278 non-null  int64   \n",
            " 13  tipoMora_M12              270278 non-null  int64   \n",
            " 14  tipoMora_M18              270278 non-null  int64   \n",
            " 15  tipoMora_M30              270278 non-null  int64   \n",
            " 16  tipoMora_M60              270278 non-null  int64   \n",
            " 17  tipoMora_M90              270278 non-null  int64   \n",
            " 18  tipoMora_MPE              270278 non-null  int64   \n",
            " 19  tipoMora_MTP              270278 non-null  int64   \n",
            " 20  categoria_DNI             270278 non-null  int64   \n",
            " 21  categoria_JUBILADO        270278 non-null  int64   \n",
            " 22  categoria_MONOTRIBUTISTA  270278 non-null  int64   \n",
            " 23  categoria_RECIBO          270278 non-null  int64   \n",
            " 24  monotributo_A             270278 non-null  int64   \n",
            " 25  monotributo_AC            270278 non-null  int64   \n",
            " 26  monotributo_AL            270278 non-null  int64   \n",
            " 27  monotributo_AP            270278 non-null  int64   \n",
            " 28  monotributo_AT            270278 non-null  int64   \n",
            " 29  monotributo_AV            270278 non-null  int64   \n",
            " 30  monotributo_B             270278 non-null  int64   \n",
            " 31  monotributo_C             270278 non-null  int64   \n",
            " 32  monotributo_D             270278 non-null  int64   \n",
            " 33  monotributo_E             270278 non-null  int64   \n",
            " 34  monotributo_F             270278 non-null  int64   \n",
            " 35  monotributo_G             270278 non-null  int64   \n",
            " 36  monotributo_H             270278 non-null  int64   \n",
            " 37  monotributo_I             270278 non-null  int64   \n",
            " 38  monotributo_J             270278 non-null  int64   \n",
            " 39  monotributo_K             270278 non-null  int64   \n",
            " 40  tipoCliente_N             270278 non-null  int64   \n",
            " 41  tipoCliente_R             270278 non-null  int64   \n",
            " 42  situacionBCRA_1.0         270278 non-null  int64   \n",
            " 43  situacionBCRA_2.0         270278 non-null  int64   \n",
            " 44  situacionBCRA_3.0         270278 non-null  int64   \n",
            " 45  situacionBCRA_4.0         270278 non-null  int64   \n",
            " 46  situacionBCRA_5.0         270278 non-null  int64   \n",
            "dtypes: category(1), float64(5), int64(41)\n",
            "memory usage: 97.2 MB\n"
          ]
        }
      ]
    },
    {
      "cell_type": "markdown",
      "source": [
        "separameos los atributos a analizar de la clase a determinar (asi x_sampling tiene los datos analizables y y_sampling la clase)"
      ],
      "metadata": {
        "id": "09HXtrijTOT0"
      }
    },
    {
      "cell_type": "code",
      "source": [
        "X_sampling = sampling\n",
        "\n",
        "y_sampling = sampling['moroso']\n",
        "X_sampling.head()"
      ],
      "metadata": {
        "colab": {
          "base_uri": "https://localhost:8080/",
          "height": 300
        },
        "id": "Klv5sJWWWOfh",
        "outputId": "db6fa0be-a3f4-48de-a0a4-1357cbf9da9b"
      },
      "execution_count": 26,
      "outputs": [
        {
          "output_type": "execute_result",
          "data": {
            "text/plain": [
              "        figuraEnBoletin  CantidadCreditos     deuda  ingreso_mensual_interno  \\\n",
              "155745                1                 1   16790.0                      0.0   \n",
              "183070                1                 1  114240.0                  73602.0   \n",
              "100823                1                 1   53810.0                      0.0   \n",
              "96160                 1                 2  210980.0                      0.0   \n",
              "118861                1                 9  155040.0                  54167.0   \n",
              "\n",
              "        ingreso_mensual_afip  ingreso_mensual_total  edad  \\\n",
              "155745                   0.0                    0.0  23.0   \n",
              "183070                   0.0                73602.0  52.0   \n",
              "100823                   0.0                    0.0  26.0   \n",
              "96160                    0.0                    0.0  33.0   \n",
              "118861                   0.0                54167.0  29.0   \n",
              "\n",
              "        dias_ultimo_credito moroso  sexo_FEMENINO  ...  monotributo_I  \\\n",
              "155745                  574      1              1  ...              0   \n",
              "183070                  414      1              1  ...              0   \n",
              "100823                  897      1              0  ...              0   \n",
              "96160                   869      1              1  ...              0   \n",
              "118861                  568      1              0  ...              0   \n",
              "\n",
              "        monotributo_J  monotributo_K  tipoCliente_N  tipoCliente_R  \\\n",
              "155745              0              0              1              0   \n",
              "183070              0              0              1              0   \n",
              "100823              0              0              1              0   \n",
              "96160               0              0              0              1   \n",
              "118861              0              0              0              1   \n",
              "\n",
              "        situacionBCRA_1.0  situacionBCRA_2.0  situacionBCRA_3.0  \\\n",
              "155745                  0                  0                  0   \n",
              "183070                  0                  0                  0   \n",
              "100823                  0                  0                  0   \n",
              "96160                   1                  0                  0   \n",
              "118861                  0                  1                  0   \n",
              "\n",
              "        situacionBCRA_4.0  situacionBCRA_5.0  \n",
              "155745                  1                  0  \n",
              "183070                  1                  0  \n",
              "100823                  0                  0  \n",
              "96160                   0                  0  \n",
              "118861                  0                  0  \n",
              "\n",
              "[5 rows x 47 columns]"
            ],
            "text/html": [
              "\n",
              "\n",
              "  <div id=\"df-e82415e0-5a00-4798-9d00-12ed6c48d77b\">\n",
              "    <div class=\"colab-df-container\">\n",
              "      <div>\n",
              "<style scoped>\n",
              "    .dataframe tbody tr th:only-of-type {\n",
              "        vertical-align: middle;\n",
              "    }\n",
              "\n",
              "    .dataframe tbody tr th {\n",
              "        vertical-align: top;\n",
              "    }\n",
              "\n",
              "    .dataframe thead th {\n",
              "        text-align: right;\n",
              "    }\n",
              "</style>\n",
              "<table border=\"1\" class=\"dataframe\">\n",
              "  <thead>\n",
              "    <tr style=\"text-align: right;\">\n",
              "      <th></th>\n",
              "      <th>figuraEnBoletin</th>\n",
              "      <th>CantidadCreditos</th>\n",
              "      <th>deuda</th>\n",
              "      <th>ingreso_mensual_interno</th>\n",
              "      <th>ingreso_mensual_afip</th>\n",
              "      <th>ingreso_mensual_total</th>\n",
              "      <th>edad</th>\n",
              "      <th>dias_ultimo_credito</th>\n",
              "      <th>moroso</th>\n",
              "      <th>sexo_FEMENINO</th>\n",
              "      <th>...</th>\n",
              "      <th>monotributo_I</th>\n",
              "      <th>monotributo_J</th>\n",
              "      <th>monotributo_K</th>\n",
              "      <th>tipoCliente_N</th>\n",
              "      <th>tipoCliente_R</th>\n",
              "      <th>situacionBCRA_1.0</th>\n",
              "      <th>situacionBCRA_2.0</th>\n",
              "      <th>situacionBCRA_3.0</th>\n",
              "      <th>situacionBCRA_4.0</th>\n",
              "      <th>situacionBCRA_5.0</th>\n",
              "    </tr>\n",
              "  </thead>\n",
              "  <tbody>\n",
              "    <tr>\n",
              "      <th>155745</th>\n",
              "      <td>1</td>\n",
              "      <td>1</td>\n",
              "      <td>16790.0</td>\n",
              "      <td>0.0</td>\n",
              "      <td>0.0</td>\n",
              "      <td>0.0</td>\n",
              "      <td>23.0</td>\n",
              "      <td>574</td>\n",
              "      <td>1</td>\n",
              "      <td>1</td>\n",
              "      <td>...</td>\n",
              "      <td>0</td>\n",
              "      <td>0</td>\n",
              "      <td>0</td>\n",
              "      <td>1</td>\n",
              "      <td>0</td>\n",
              "      <td>0</td>\n",
              "      <td>0</td>\n",
              "      <td>0</td>\n",
              "      <td>1</td>\n",
              "      <td>0</td>\n",
              "    </tr>\n",
              "    <tr>\n",
              "      <th>183070</th>\n",
              "      <td>1</td>\n",
              "      <td>1</td>\n",
              "      <td>114240.0</td>\n",
              "      <td>73602.0</td>\n",
              "      <td>0.0</td>\n",
              "      <td>73602.0</td>\n",
              "      <td>52.0</td>\n",
              "      <td>414</td>\n",
              "      <td>1</td>\n",
              "      <td>1</td>\n",
              "      <td>...</td>\n",
              "      <td>0</td>\n",
              "      <td>0</td>\n",
              "      <td>0</td>\n",
              "      <td>1</td>\n",
              "      <td>0</td>\n",
              "      <td>0</td>\n",
              "      <td>0</td>\n",
              "      <td>0</td>\n",
              "      <td>1</td>\n",
              "      <td>0</td>\n",
              "    </tr>\n",
              "    <tr>\n",
              "      <th>100823</th>\n",
              "      <td>1</td>\n",
              "      <td>1</td>\n",
              "      <td>53810.0</td>\n",
              "      <td>0.0</td>\n",
              "      <td>0.0</td>\n",
              "      <td>0.0</td>\n",
              "      <td>26.0</td>\n",
              "      <td>897</td>\n",
              "      <td>1</td>\n",
              "      <td>0</td>\n",
              "      <td>...</td>\n",
              "      <td>0</td>\n",
              "      <td>0</td>\n",
              "      <td>0</td>\n",
              "      <td>1</td>\n",
              "      <td>0</td>\n",
              "      <td>0</td>\n",
              "      <td>0</td>\n",
              "      <td>0</td>\n",
              "      <td>0</td>\n",
              "      <td>0</td>\n",
              "    </tr>\n",
              "    <tr>\n",
              "      <th>96160</th>\n",
              "      <td>1</td>\n",
              "      <td>2</td>\n",
              "      <td>210980.0</td>\n",
              "      <td>0.0</td>\n",
              "      <td>0.0</td>\n",
              "      <td>0.0</td>\n",
              "      <td>33.0</td>\n",
              "      <td>869</td>\n",
              "      <td>1</td>\n",
              "      <td>1</td>\n",
              "      <td>...</td>\n",
              "      <td>0</td>\n",
              "      <td>0</td>\n",
              "      <td>0</td>\n",
              "      <td>0</td>\n",
              "      <td>1</td>\n",
              "      <td>1</td>\n",
              "      <td>0</td>\n",
              "      <td>0</td>\n",
              "      <td>0</td>\n",
              "      <td>0</td>\n",
              "    </tr>\n",
              "    <tr>\n",
              "      <th>118861</th>\n",
              "      <td>1</td>\n",
              "      <td>9</td>\n",
              "      <td>155040.0</td>\n",
              "      <td>54167.0</td>\n",
              "      <td>0.0</td>\n",
              "      <td>54167.0</td>\n",
              "      <td>29.0</td>\n",
              "      <td>568</td>\n",
              "      <td>1</td>\n",
              "      <td>0</td>\n",
              "      <td>...</td>\n",
              "      <td>0</td>\n",
              "      <td>0</td>\n",
              "      <td>0</td>\n",
              "      <td>0</td>\n",
              "      <td>1</td>\n",
              "      <td>0</td>\n",
              "      <td>1</td>\n",
              "      <td>0</td>\n",
              "      <td>0</td>\n",
              "      <td>0</td>\n",
              "    </tr>\n",
              "  </tbody>\n",
              "</table>\n",
              "<p>5 rows × 47 columns</p>\n",
              "</div>\n",
              "      <button class=\"colab-df-convert\" onclick=\"convertToInteractive('df-e82415e0-5a00-4798-9d00-12ed6c48d77b')\"\n",
              "              title=\"Convert this dataframe to an interactive table.\"\n",
              "              style=\"display:none;\">\n",
              "\n",
              "  <svg xmlns=\"http://www.w3.org/2000/svg\" height=\"24px\"viewBox=\"0 0 24 24\"\n",
              "       width=\"24px\">\n",
              "    <path d=\"M0 0h24v24H0V0z\" fill=\"none\"/>\n",
              "    <path d=\"M18.56 5.44l.94 2.06.94-2.06 2.06-.94-2.06-.94-.94-2.06-.94 2.06-2.06.94zm-11 1L8.5 8.5l.94-2.06 2.06-.94-2.06-.94L8.5 2.5l-.94 2.06-2.06.94zm10 10l.94 2.06.94-2.06 2.06-.94-2.06-.94-.94-2.06-.94 2.06-2.06.94z\"/><path d=\"M17.41 7.96l-1.37-1.37c-.4-.4-.92-.59-1.43-.59-.52 0-1.04.2-1.43.59L10.3 9.45l-7.72 7.72c-.78.78-.78 2.05 0 2.83L4 21.41c.39.39.9.59 1.41.59.51 0 1.02-.2 1.41-.59l7.78-7.78 2.81-2.81c.8-.78.8-2.07 0-2.86zM5.41 20L4 18.59l7.72-7.72 1.47 1.35L5.41 20z\"/>\n",
              "  </svg>\n",
              "      </button>\n",
              "\n",
              "\n",
              "\n",
              "    <div id=\"df-827c541b-9005-4d56-9291-95c45e7d305d\">\n",
              "      <button class=\"colab-df-quickchart\" onclick=\"quickchart('df-827c541b-9005-4d56-9291-95c45e7d305d')\"\n",
              "              title=\"Suggest charts.\"\n",
              "              style=\"display:none;\">\n",
              "\n",
              "<svg xmlns=\"http://www.w3.org/2000/svg\" height=\"24px\"viewBox=\"0 0 24 24\"\n",
              "     width=\"24px\">\n",
              "    <g>\n",
              "        <path d=\"M19 3H5c-1.1 0-2 .9-2 2v14c0 1.1.9 2 2 2h14c1.1 0 2-.9 2-2V5c0-1.1-.9-2-2-2zM9 17H7v-7h2v7zm4 0h-2V7h2v10zm4 0h-2v-4h2v4z\"/>\n",
              "    </g>\n",
              "</svg>\n",
              "      </button>\n",
              "    </div>\n",
              "\n",
              "<style>\n",
              "  .colab-df-quickchart {\n",
              "    background-color: #E8F0FE;\n",
              "    border: none;\n",
              "    border-radius: 50%;\n",
              "    cursor: pointer;\n",
              "    display: none;\n",
              "    fill: #1967D2;\n",
              "    height: 32px;\n",
              "    padding: 0 0 0 0;\n",
              "    width: 32px;\n",
              "  }\n",
              "\n",
              "  .colab-df-quickchart:hover {\n",
              "    background-color: #E2EBFA;\n",
              "    box-shadow: 0px 1px 2px rgba(60, 64, 67, 0.3), 0px 1px 3px 1px rgba(60, 64, 67, 0.15);\n",
              "    fill: #174EA6;\n",
              "  }\n",
              "\n",
              "  [theme=dark] .colab-df-quickchart {\n",
              "    background-color: #3B4455;\n",
              "    fill: #D2E3FC;\n",
              "  }\n",
              "\n",
              "  [theme=dark] .colab-df-quickchart:hover {\n",
              "    background-color: #434B5C;\n",
              "    box-shadow: 0px 1px 3px 1px rgba(0, 0, 0, 0.15);\n",
              "    filter: drop-shadow(0px 1px 2px rgba(0, 0, 0, 0.3));\n",
              "    fill: #FFFFFF;\n",
              "  }\n",
              "</style>\n",
              "\n",
              "    <script>\n",
              "      async function quickchart(key) {\n",
              "        const containerElement = document.querySelector('#' + key);\n",
              "        const charts = await google.colab.kernel.invokeFunction(\n",
              "            'suggestCharts', [key], {});\n",
              "      }\n",
              "    </script>\n",
              "\n",
              "      <script>\n",
              "\n",
              "function displayQuickchartButton(domScope) {\n",
              "  let quickchartButtonEl =\n",
              "    domScope.querySelector('#df-827c541b-9005-4d56-9291-95c45e7d305d button.colab-df-quickchart');\n",
              "  quickchartButtonEl.style.display =\n",
              "    google.colab.kernel.accessAllowed ? 'block' : 'none';\n",
              "}\n",
              "\n",
              "        displayQuickchartButton(document);\n",
              "      </script>\n",
              "      <style>\n",
              "    .colab-df-container {\n",
              "      display:flex;\n",
              "      flex-wrap:wrap;\n",
              "      gap: 12px;\n",
              "    }\n",
              "\n",
              "    .colab-df-convert {\n",
              "      background-color: #E8F0FE;\n",
              "      border: none;\n",
              "      border-radius: 50%;\n",
              "      cursor: pointer;\n",
              "      display: none;\n",
              "      fill: #1967D2;\n",
              "      height: 32px;\n",
              "      padding: 0 0 0 0;\n",
              "      width: 32px;\n",
              "    }\n",
              "\n",
              "    .colab-df-convert:hover {\n",
              "      background-color: #E2EBFA;\n",
              "      box-shadow: 0px 1px 2px rgba(60, 64, 67, 0.3), 0px 1px 3px 1px rgba(60, 64, 67, 0.15);\n",
              "      fill: #174EA6;\n",
              "    }\n",
              "\n",
              "    [theme=dark] .colab-df-convert {\n",
              "      background-color: #3B4455;\n",
              "      fill: #D2E3FC;\n",
              "    }\n",
              "\n",
              "    [theme=dark] .colab-df-convert:hover {\n",
              "      background-color: #434B5C;\n",
              "      box-shadow: 0px 1px 3px 1px rgba(0, 0, 0, 0.15);\n",
              "      filter: drop-shadow(0px 1px 2px rgba(0, 0, 0, 0.3));\n",
              "      fill: #FFFFFF;\n",
              "    }\n",
              "  </style>\n",
              "\n",
              "      <script>\n",
              "        const buttonEl =\n",
              "          document.querySelector('#df-e82415e0-5a00-4798-9d00-12ed6c48d77b button.colab-df-convert');\n",
              "        buttonEl.style.display =\n",
              "          google.colab.kernel.accessAllowed ? 'block' : 'none';\n",
              "\n",
              "        async function convertToInteractive(key) {\n",
              "          const element = document.querySelector('#df-e82415e0-5a00-4798-9d00-12ed6c48d77b');\n",
              "          const dataTable =\n",
              "            await google.colab.kernel.invokeFunction('convertToInteractive',\n",
              "                                                     [key], {});\n",
              "          if (!dataTable) return;\n",
              "\n",
              "          const docLinkHtml = 'Like what you see? Visit the ' +\n",
              "            '<a target=\"_blank\" href=https://colab.research.google.com/notebooks/data_table.ipynb>data table notebook</a>'\n",
              "            + ' to learn more about interactive tables.';\n",
              "          element.innerHTML = '';\n",
              "          dataTable['output_type'] = 'display_data';\n",
              "          await google.colab.output.renderOutput(dataTable, element);\n",
              "          const docLink = document.createElement('div');\n",
              "          docLink.innerHTML = docLinkHtml;\n",
              "          element.appendChild(docLink);\n",
              "        }\n",
              "      </script>\n",
              "    </div>\n",
              "  </div>\n"
            ]
          },
          "metadata": {},
          "execution_count": 26
        }
      ]
    },
    {
      "cell_type": "markdown",
      "source": [
        "# Transforma variables numericas: Scaling"
      ],
      "metadata": {
        "id": "gFnDXxKIfZUS"
      }
    },
    {
      "cell_type": "code",
      "source": [
        "from sklearn.preprocessing import StandardScaler\n",
        "\n",
        "scaler= StandardScaler()\n",
        "X_sampling[['CantidadCreditos','deuda','ingreso_mensual_interno','ingreso_mensual_afip','ingreso_mensual_total','edad','dias_ultimo_credito']]= scaler.fit_transform(X_sampling[['CantidadCreditos','deuda','ingreso_mensual_interno','ingreso_mensual_afip','ingreso_mensual_total','edad','dias_ultimo_credito']].to_numpy())\n",
        "\n",
        "\n"
      ],
      "metadata": {
        "id": "7PgWVV5UWe1m"
      },
      "execution_count": 27,
      "outputs": []
    },
    {
      "cell_type": "code",
      "source": [
        "X_sampling.head()"
      ],
      "metadata": {
        "colab": {
          "base_uri": "https://localhost:8080/",
          "height": 300
        },
        "id": "HhOQW2wcWugM",
        "outputId": "1de90079-dd57-4ce1-fc6e-c51c1045072d"
      },
      "execution_count": 28,
      "outputs": [
        {
          "output_type": "execute_result",
          "data": {
            "text/plain": [
              "        figuraEnBoletin  CantidadCreditos     deuda  ingreso_mensual_interno  \\\n",
              "155745                1         -0.595398 -0.398923                -0.122076   \n",
              "183070                1         -0.595398  1.176972                 0.165434   \n",
              "100823                1         -0.595398  0.199740                -0.122076   \n",
              "96160                 1         -0.466252  2.741385                -0.122076   \n",
              "118861                1          0.437772  1.836762                 0.089516   \n",
              "\n",
              "        ingreso_mensual_afip  ingreso_mensual_total      edad  \\\n",
              "155745             -0.350121              -0.141598 -1.106618   \n",
              "183070             -0.350121               0.144570  0.763770   \n",
              "100823             -0.350121              -0.141598 -0.913130   \n",
              "96160              -0.350121              -0.141598 -0.461657   \n",
              "118861             -0.350121               0.069006 -0.719641   \n",
              "\n",
              "        dias_ultimo_credito moroso  sexo_FEMENINO  ...  monotributo_I  \\\n",
              "155745             0.142021      1              1  ...              0   \n",
              "183070            -0.417562      1              1  ...              0   \n",
              "100823             1.271680      1              0  ...              0   \n",
              "96160              1.173753      1              1  ...              0   \n",
              "118861             0.121037      1              0  ...              0   \n",
              "\n",
              "        monotributo_J  monotributo_K  tipoCliente_N  tipoCliente_R  \\\n",
              "155745              0              0              1              0   \n",
              "183070              0              0              1              0   \n",
              "100823              0              0              1              0   \n",
              "96160               0              0              0              1   \n",
              "118861              0              0              0              1   \n",
              "\n",
              "        situacionBCRA_1.0  situacionBCRA_2.0  situacionBCRA_3.0  \\\n",
              "155745                  0                  0                  0   \n",
              "183070                  0                  0                  0   \n",
              "100823                  0                  0                  0   \n",
              "96160                   1                  0                  0   \n",
              "118861                  0                  1                  0   \n",
              "\n",
              "        situacionBCRA_4.0  situacionBCRA_5.0  \n",
              "155745                  1                  0  \n",
              "183070                  1                  0  \n",
              "100823                  0                  0  \n",
              "96160                   0                  0  \n",
              "118861                  0                  0  \n",
              "\n",
              "[5 rows x 47 columns]"
            ],
            "text/html": [
              "\n",
              "\n",
              "  <div id=\"df-ab5c9e11-b41d-4bae-b7a3-4f451dda943f\">\n",
              "    <div class=\"colab-df-container\">\n",
              "      <div>\n",
              "<style scoped>\n",
              "    .dataframe tbody tr th:only-of-type {\n",
              "        vertical-align: middle;\n",
              "    }\n",
              "\n",
              "    .dataframe tbody tr th {\n",
              "        vertical-align: top;\n",
              "    }\n",
              "\n",
              "    .dataframe thead th {\n",
              "        text-align: right;\n",
              "    }\n",
              "</style>\n",
              "<table border=\"1\" class=\"dataframe\">\n",
              "  <thead>\n",
              "    <tr style=\"text-align: right;\">\n",
              "      <th></th>\n",
              "      <th>figuraEnBoletin</th>\n",
              "      <th>CantidadCreditos</th>\n",
              "      <th>deuda</th>\n",
              "      <th>ingreso_mensual_interno</th>\n",
              "      <th>ingreso_mensual_afip</th>\n",
              "      <th>ingreso_mensual_total</th>\n",
              "      <th>edad</th>\n",
              "      <th>dias_ultimo_credito</th>\n",
              "      <th>moroso</th>\n",
              "      <th>sexo_FEMENINO</th>\n",
              "      <th>...</th>\n",
              "      <th>monotributo_I</th>\n",
              "      <th>monotributo_J</th>\n",
              "      <th>monotributo_K</th>\n",
              "      <th>tipoCliente_N</th>\n",
              "      <th>tipoCliente_R</th>\n",
              "      <th>situacionBCRA_1.0</th>\n",
              "      <th>situacionBCRA_2.0</th>\n",
              "      <th>situacionBCRA_3.0</th>\n",
              "      <th>situacionBCRA_4.0</th>\n",
              "      <th>situacionBCRA_5.0</th>\n",
              "    </tr>\n",
              "  </thead>\n",
              "  <tbody>\n",
              "    <tr>\n",
              "      <th>155745</th>\n",
              "      <td>1</td>\n",
              "      <td>-0.595398</td>\n",
              "      <td>-0.398923</td>\n",
              "      <td>-0.122076</td>\n",
              "      <td>-0.350121</td>\n",
              "      <td>-0.141598</td>\n",
              "      <td>-1.106618</td>\n",
              "      <td>0.142021</td>\n",
              "      <td>1</td>\n",
              "      <td>1</td>\n",
              "      <td>...</td>\n",
              "      <td>0</td>\n",
              "      <td>0</td>\n",
              "      <td>0</td>\n",
              "      <td>1</td>\n",
              "      <td>0</td>\n",
              "      <td>0</td>\n",
              "      <td>0</td>\n",
              "      <td>0</td>\n",
              "      <td>1</td>\n",
              "      <td>0</td>\n",
              "    </tr>\n",
              "    <tr>\n",
              "      <th>183070</th>\n",
              "      <td>1</td>\n",
              "      <td>-0.595398</td>\n",
              "      <td>1.176972</td>\n",
              "      <td>0.165434</td>\n",
              "      <td>-0.350121</td>\n",
              "      <td>0.144570</td>\n",
              "      <td>0.763770</td>\n",
              "      <td>-0.417562</td>\n",
              "      <td>1</td>\n",
              "      <td>1</td>\n",
              "      <td>...</td>\n",
              "      <td>0</td>\n",
              "      <td>0</td>\n",
              "      <td>0</td>\n",
              "      <td>1</td>\n",
              "      <td>0</td>\n",
              "      <td>0</td>\n",
              "      <td>0</td>\n",
              "      <td>0</td>\n",
              "      <td>1</td>\n",
              "      <td>0</td>\n",
              "    </tr>\n",
              "    <tr>\n",
              "      <th>100823</th>\n",
              "      <td>1</td>\n",
              "      <td>-0.595398</td>\n",
              "      <td>0.199740</td>\n",
              "      <td>-0.122076</td>\n",
              "      <td>-0.350121</td>\n",
              "      <td>-0.141598</td>\n",
              "      <td>-0.913130</td>\n",
              "      <td>1.271680</td>\n",
              "      <td>1</td>\n",
              "      <td>0</td>\n",
              "      <td>...</td>\n",
              "      <td>0</td>\n",
              "      <td>0</td>\n",
              "      <td>0</td>\n",
              "      <td>1</td>\n",
              "      <td>0</td>\n",
              "      <td>0</td>\n",
              "      <td>0</td>\n",
              "      <td>0</td>\n",
              "      <td>0</td>\n",
              "      <td>0</td>\n",
              "    </tr>\n",
              "    <tr>\n",
              "      <th>96160</th>\n",
              "      <td>1</td>\n",
              "      <td>-0.466252</td>\n",
              "      <td>2.741385</td>\n",
              "      <td>-0.122076</td>\n",
              "      <td>-0.350121</td>\n",
              "      <td>-0.141598</td>\n",
              "      <td>-0.461657</td>\n",
              "      <td>1.173753</td>\n",
              "      <td>1</td>\n",
              "      <td>1</td>\n",
              "      <td>...</td>\n",
              "      <td>0</td>\n",
              "      <td>0</td>\n",
              "      <td>0</td>\n",
              "      <td>0</td>\n",
              "      <td>1</td>\n",
              "      <td>1</td>\n",
              "      <td>0</td>\n",
              "      <td>0</td>\n",
              "      <td>0</td>\n",
              "      <td>0</td>\n",
              "    </tr>\n",
              "    <tr>\n",
              "      <th>118861</th>\n",
              "      <td>1</td>\n",
              "      <td>0.437772</td>\n",
              "      <td>1.836762</td>\n",
              "      <td>0.089516</td>\n",
              "      <td>-0.350121</td>\n",
              "      <td>0.069006</td>\n",
              "      <td>-0.719641</td>\n",
              "      <td>0.121037</td>\n",
              "      <td>1</td>\n",
              "      <td>0</td>\n",
              "      <td>...</td>\n",
              "      <td>0</td>\n",
              "      <td>0</td>\n",
              "      <td>0</td>\n",
              "      <td>0</td>\n",
              "      <td>1</td>\n",
              "      <td>0</td>\n",
              "      <td>1</td>\n",
              "      <td>0</td>\n",
              "      <td>0</td>\n",
              "      <td>0</td>\n",
              "    </tr>\n",
              "  </tbody>\n",
              "</table>\n",
              "<p>5 rows × 47 columns</p>\n",
              "</div>\n",
              "      <button class=\"colab-df-convert\" onclick=\"convertToInteractive('df-ab5c9e11-b41d-4bae-b7a3-4f451dda943f')\"\n",
              "              title=\"Convert this dataframe to an interactive table.\"\n",
              "              style=\"display:none;\">\n",
              "\n",
              "  <svg xmlns=\"http://www.w3.org/2000/svg\" height=\"24px\"viewBox=\"0 0 24 24\"\n",
              "       width=\"24px\">\n",
              "    <path d=\"M0 0h24v24H0V0z\" fill=\"none\"/>\n",
              "    <path d=\"M18.56 5.44l.94 2.06.94-2.06 2.06-.94-2.06-.94-.94-2.06-.94 2.06-2.06.94zm-11 1L8.5 8.5l.94-2.06 2.06-.94-2.06-.94L8.5 2.5l-.94 2.06-2.06.94zm10 10l.94 2.06.94-2.06 2.06-.94-2.06-.94-.94-2.06-.94 2.06-2.06.94z\"/><path d=\"M17.41 7.96l-1.37-1.37c-.4-.4-.92-.59-1.43-.59-.52 0-1.04.2-1.43.59L10.3 9.45l-7.72 7.72c-.78.78-.78 2.05 0 2.83L4 21.41c.39.39.9.59 1.41.59.51 0 1.02-.2 1.41-.59l7.78-7.78 2.81-2.81c.8-.78.8-2.07 0-2.86zM5.41 20L4 18.59l7.72-7.72 1.47 1.35L5.41 20z\"/>\n",
              "  </svg>\n",
              "      </button>\n",
              "\n",
              "\n",
              "\n",
              "    <div id=\"df-f1ec9eb0-8f7c-4e63-affa-be0f4cf1e48f\">\n",
              "      <button class=\"colab-df-quickchart\" onclick=\"quickchart('df-f1ec9eb0-8f7c-4e63-affa-be0f4cf1e48f')\"\n",
              "              title=\"Suggest charts.\"\n",
              "              style=\"display:none;\">\n",
              "\n",
              "<svg xmlns=\"http://www.w3.org/2000/svg\" height=\"24px\"viewBox=\"0 0 24 24\"\n",
              "     width=\"24px\">\n",
              "    <g>\n",
              "        <path d=\"M19 3H5c-1.1 0-2 .9-2 2v14c0 1.1.9 2 2 2h14c1.1 0 2-.9 2-2V5c0-1.1-.9-2-2-2zM9 17H7v-7h2v7zm4 0h-2V7h2v10zm4 0h-2v-4h2v4z\"/>\n",
              "    </g>\n",
              "</svg>\n",
              "      </button>\n",
              "    </div>\n",
              "\n",
              "<style>\n",
              "  .colab-df-quickchart {\n",
              "    background-color: #E8F0FE;\n",
              "    border: none;\n",
              "    border-radius: 50%;\n",
              "    cursor: pointer;\n",
              "    display: none;\n",
              "    fill: #1967D2;\n",
              "    height: 32px;\n",
              "    padding: 0 0 0 0;\n",
              "    width: 32px;\n",
              "  }\n",
              "\n",
              "  .colab-df-quickchart:hover {\n",
              "    background-color: #E2EBFA;\n",
              "    box-shadow: 0px 1px 2px rgba(60, 64, 67, 0.3), 0px 1px 3px 1px rgba(60, 64, 67, 0.15);\n",
              "    fill: #174EA6;\n",
              "  }\n",
              "\n",
              "  [theme=dark] .colab-df-quickchart {\n",
              "    background-color: #3B4455;\n",
              "    fill: #D2E3FC;\n",
              "  }\n",
              "\n",
              "  [theme=dark] .colab-df-quickchart:hover {\n",
              "    background-color: #434B5C;\n",
              "    box-shadow: 0px 1px 3px 1px rgba(0, 0, 0, 0.15);\n",
              "    filter: drop-shadow(0px 1px 2px rgba(0, 0, 0, 0.3));\n",
              "    fill: #FFFFFF;\n",
              "  }\n",
              "</style>\n",
              "\n",
              "    <script>\n",
              "      async function quickchart(key) {\n",
              "        const containerElement = document.querySelector('#' + key);\n",
              "        const charts = await google.colab.kernel.invokeFunction(\n",
              "            'suggestCharts', [key], {});\n",
              "      }\n",
              "    </script>\n",
              "\n",
              "      <script>\n",
              "\n",
              "function displayQuickchartButton(domScope) {\n",
              "  let quickchartButtonEl =\n",
              "    domScope.querySelector('#df-f1ec9eb0-8f7c-4e63-affa-be0f4cf1e48f button.colab-df-quickchart');\n",
              "  quickchartButtonEl.style.display =\n",
              "    google.colab.kernel.accessAllowed ? 'block' : 'none';\n",
              "}\n",
              "\n",
              "        displayQuickchartButton(document);\n",
              "      </script>\n",
              "      <style>\n",
              "    .colab-df-container {\n",
              "      display:flex;\n",
              "      flex-wrap:wrap;\n",
              "      gap: 12px;\n",
              "    }\n",
              "\n",
              "    .colab-df-convert {\n",
              "      background-color: #E8F0FE;\n",
              "      border: none;\n",
              "      border-radius: 50%;\n",
              "      cursor: pointer;\n",
              "      display: none;\n",
              "      fill: #1967D2;\n",
              "      height: 32px;\n",
              "      padding: 0 0 0 0;\n",
              "      width: 32px;\n",
              "    }\n",
              "\n",
              "    .colab-df-convert:hover {\n",
              "      background-color: #E2EBFA;\n",
              "      box-shadow: 0px 1px 2px rgba(60, 64, 67, 0.3), 0px 1px 3px 1px rgba(60, 64, 67, 0.15);\n",
              "      fill: #174EA6;\n",
              "    }\n",
              "\n",
              "    [theme=dark] .colab-df-convert {\n",
              "      background-color: #3B4455;\n",
              "      fill: #D2E3FC;\n",
              "    }\n",
              "\n",
              "    [theme=dark] .colab-df-convert:hover {\n",
              "      background-color: #434B5C;\n",
              "      box-shadow: 0px 1px 3px 1px rgba(0, 0, 0, 0.15);\n",
              "      filter: drop-shadow(0px 1px 2px rgba(0, 0, 0, 0.3));\n",
              "      fill: #FFFFFF;\n",
              "    }\n",
              "  </style>\n",
              "\n",
              "      <script>\n",
              "        const buttonEl =\n",
              "          document.querySelector('#df-ab5c9e11-b41d-4bae-b7a3-4f451dda943f button.colab-df-convert');\n",
              "        buttonEl.style.display =\n",
              "          google.colab.kernel.accessAllowed ? 'block' : 'none';\n",
              "\n",
              "        async function convertToInteractive(key) {\n",
              "          const element = document.querySelector('#df-ab5c9e11-b41d-4bae-b7a3-4f451dda943f');\n",
              "          const dataTable =\n",
              "            await google.colab.kernel.invokeFunction('convertToInteractive',\n",
              "                                                     [key], {});\n",
              "          if (!dataTable) return;\n",
              "\n",
              "          const docLinkHtml = 'Like what you see? Visit the ' +\n",
              "            '<a target=\"_blank\" href=https://colab.research.google.com/notebooks/data_table.ipynb>data table notebook</a>'\n",
              "            + ' to learn more about interactive tables.';\n",
              "          element.innerHTML = '';\n",
              "          dataTable['output_type'] = 'display_data';\n",
              "          await google.colab.output.renderOutput(dataTable, element);\n",
              "          const docLink = document.createElement('div');\n",
              "          docLink.innerHTML = docLinkHtml;\n",
              "          element.appendChild(docLink);\n",
              "        }\n",
              "      </script>\n",
              "    </div>\n",
              "  </div>\n"
            ]
          },
          "metadata": {},
          "execution_count": 28
        }
      ]
    },
    {
      "cell_type": "markdown",
      "source": [
        "# Seleccion de atributos relevantes\n",
        "El modelo tiene muchos atributos que pueden ser correlacionados asi los eliminamos del modelo para mejorar su performance.\n",
        "[Feature Selection](https://toad.readthedocs.io/en/stable/tutorial.html)"
      ],
      "metadata": {
        "id": "vgQ7bsicSm1H"
      }
    },
    {
      "cell_type": "code",
      "source": [
        "exclude_list = ['moroso'] #variables a excluir en el scorecard\n",
        "x_sampling_selected, drop_lst = toad.selection.select(frame = X_sampling,\n",
        "                                                target = X_sampling['moroso'],\n",
        "                                                empty = 0.9,\n",
        "                                                iv=0.03,\n",
        "                                                corr = 0.7,\n",
        "                                                return_drop = True,\n",
        "                                                exclude = exclude_list)"
      ],
      "metadata": {
        "id": "Fcu4zj0XSlZG"
      },
      "execution_count": 29,
      "outputs": []
    },
    {
      "cell_type": "code",
      "source": [
        "print('eliminadas por vacios:' , drop_lst['empty'])\n",
        "print('eliminadas por iv bajo: ' , drop_lst['iv'])\n",
        "print('eliminadas por corr alta: ', drop_lst['corr'])\n",
        "\n",
        "print( \"keep: \", x_sampling_selected.shape[1],\n",
        "      \", drop empty: \", len(drop_lst['empty']),\n",
        "      \", drop iv: \", len(drop_lst['iv']),\n",
        "      \", drop corr: \",len(drop_lst['corr']) )\n",
        "\n",
        "x_sampling_selected.columns"
      ],
      "metadata": {
        "colab": {
          "base_uri": "https://localhost:8080/"
        },
        "id": "ZFP9SzMiSkZP",
        "outputId": "87bbfb13-b846-4fef-eac5-c4d3f4391143"
      },
      "execution_count": 30,
      "outputs": [
        {
          "output_type": "stream",
          "name": "stdout",
          "text": [
            "eliminadas por vacios: []\n",
            "eliminadas por iv bajo:  ['ingreso_mensual_afip' 'sexo_FEMENINO' 'sexo_GENERICO' 'sexo_MASCULINO'\n",
            " 'categoria_MONOTRIBUTISTA' 'monotributo_A' 'monotributo_AC'\n",
            " 'monotributo_AL' 'monotributo_AP' 'monotributo_AT' 'monotributo_AV'\n",
            " 'monotributo_B' 'monotributo_C' 'monotributo_D' 'monotributo_E'\n",
            " 'monotributo_F' 'monotributo_G' 'monotributo_H' 'monotributo_I'\n",
            " 'monotributo_J' 'monotributo_K' 'situacionBCRA_2.0']\n",
            "eliminadas por corr alta:  ['ingreso_mensual_interno' 'tipoCliente_R' 'figuraEnBoletin']\n",
            "keep:  22 , drop empty:  0 , drop iv:  22 , drop corr:  3\n"
          ]
        },
        {
          "output_type": "execute_result",
          "data": {
            "text/plain": [
              "Index(['CantidadCreditos', 'deuda', 'ingreso_mensual_total', 'edad',\n",
              "       'dias_ultimo_credito', 'moroso', 'tipoMora_BPG', 'tipoMora_M12',\n",
              "       'tipoMora_M18', 'tipoMora_M30', 'tipoMora_M60', 'tipoMora_M90',\n",
              "       'tipoMora_MPE', 'tipoMora_MTP', 'categoria_DNI', 'categoria_JUBILADO',\n",
              "       'categoria_RECIBO', 'tipoCliente_N', 'situacionBCRA_1.0',\n",
              "       'situacionBCRA_3.0', 'situacionBCRA_4.0', 'situacionBCRA_5.0'],\n",
              "      dtype='object')"
            ]
          },
          "metadata": {},
          "execution_count": 30
        }
      ]
    },
    {
      "cell_type": "code",
      "source": [
        "toad.quality(x_sampling_selected, 'moroso', iv_only = True)"
      ],
      "metadata": {
        "colab": {
          "base_uri": "https://localhost:8080/",
          "height": 708
        },
        "id": "y1vIKXW62CKp",
        "outputId": "7021ddeb-9967-4b8b-ba7a-5bce9e8c94a1"
      },
      "execution_count": 31,
      "outputs": [
        {
          "output_type": "execute_result",
          "data": {
            "text/plain": [
              "                              iv  gini  entropy   unique\n",
              "tipoMora_BPG           14.208503   NaN      NaN      2.0\n",
              "deuda                  11.405451   NaN      NaN  19247.0\n",
              "tipoMora_MPE            6.814351   NaN      NaN      2.0\n",
              "tipoMora_M18            3.567003   NaN      NaN      2.0\n",
              "tipoCliente_N           1.075772   NaN      NaN      2.0\n",
              "dias_ultimo_credito     0.985802   NaN      NaN   1086.0\n",
              "situacionBCRA_1.0       0.653912   NaN      NaN      2.0\n",
              "tipoMora_MTP            0.391824   NaN      NaN      2.0\n",
              "edad                    0.369072   NaN      NaN     82.0\n",
              "ingreso_mensual_total   0.355435   NaN      NaN  34333.0\n",
              "categoria_DNI           0.340113   NaN      NaN      2.0\n",
              "situacionBCRA_5.0       0.314825   NaN      NaN      2.0\n",
              "tipoMora_M12            0.281592   NaN      NaN      2.0\n",
              "tipoMora_M60            0.273955   NaN      NaN      2.0\n",
              "tipoMora_M30            0.216817   NaN      NaN      2.0\n",
              "tipoMora_M90            0.167826   NaN      NaN      2.0\n",
              "CantidadCreditos        0.161373   NaN      NaN     50.0\n",
              "situacionBCRA_4.0       0.125482   NaN      NaN      2.0\n",
              "categoria_RECIBO        0.120052   NaN      NaN      2.0\n",
              "categoria_JUBILADO      0.090709   NaN      NaN      2.0\n",
              "situacionBCRA_3.0       0.044455   NaN      NaN      2.0"
            ],
            "text/html": [
              "\n",
              "\n",
              "  <div id=\"df-760b3792-d392-4a91-9441-7c7be2b49bff\">\n",
              "    <div class=\"colab-df-container\">\n",
              "      <div>\n",
              "<style scoped>\n",
              "    .dataframe tbody tr th:only-of-type {\n",
              "        vertical-align: middle;\n",
              "    }\n",
              "\n",
              "    .dataframe tbody tr th {\n",
              "        vertical-align: top;\n",
              "    }\n",
              "\n",
              "    .dataframe thead th {\n",
              "        text-align: right;\n",
              "    }\n",
              "</style>\n",
              "<table border=\"1\" class=\"dataframe\">\n",
              "  <thead>\n",
              "    <tr style=\"text-align: right;\">\n",
              "      <th></th>\n",
              "      <th>iv</th>\n",
              "      <th>gini</th>\n",
              "      <th>entropy</th>\n",
              "      <th>unique</th>\n",
              "    </tr>\n",
              "  </thead>\n",
              "  <tbody>\n",
              "    <tr>\n",
              "      <th>tipoMora_BPG</th>\n",
              "      <td>14.208503</td>\n",
              "      <td>NaN</td>\n",
              "      <td>NaN</td>\n",
              "      <td>2.0</td>\n",
              "    </tr>\n",
              "    <tr>\n",
              "      <th>deuda</th>\n",
              "      <td>11.405451</td>\n",
              "      <td>NaN</td>\n",
              "      <td>NaN</td>\n",
              "      <td>19247.0</td>\n",
              "    </tr>\n",
              "    <tr>\n",
              "      <th>tipoMora_MPE</th>\n",
              "      <td>6.814351</td>\n",
              "      <td>NaN</td>\n",
              "      <td>NaN</td>\n",
              "      <td>2.0</td>\n",
              "    </tr>\n",
              "    <tr>\n",
              "      <th>tipoMora_M18</th>\n",
              "      <td>3.567003</td>\n",
              "      <td>NaN</td>\n",
              "      <td>NaN</td>\n",
              "      <td>2.0</td>\n",
              "    </tr>\n",
              "    <tr>\n",
              "      <th>tipoCliente_N</th>\n",
              "      <td>1.075772</td>\n",
              "      <td>NaN</td>\n",
              "      <td>NaN</td>\n",
              "      <td>2.0</td>\n",
              "    </tr>\n",
              "    <tr>\n",
              "      <th>dias_ultimo_credito</th>\n",
              "      <td>0.985802</td>\n",
              "      <td>NaN</td>\n",
              "      <td>NaN</td>\n",
              "      <td>1086.0</td>\n",
              "    </tr>\n",
              "    <tr>\n",
              "      <th>situacionBCRA_1.0</th>\n",
              "      <td>0.653912</td>\n",
              "      <td>NaN</td>\n",
              "      <td>NaN</td>\n",
              "      <td>2.0</td>\n",
              "    </tr>\n",
              "    <tr>\n",
              "      <th>tipoMora_MTP</th>\n",
              "      <td>0.391824</td>\n",
              "      <td>NaN</td>\n",
              "      <td>NaN</td>\n",
              "      <td>2.0</td>\n",
              "    </tr>\n",
              "    <tr>\n",
              "      <th>edad</th>\n",
              "      <td>0.369072</td>\n",
              "      <td>NaN</td>\n",
              "      <td>NaN</td>\n",
              "      <td>82.0</td>\n",
              "    </tr>\n",
              "    <tr>\n",
              "      <th>ingreso_mensual_total</th>\n",
              "      <td>0.355435</td>\n",
              "      <td>NaN</td>\n",
              "      <td>NaN</td>\n",
              "      <td>34333.0</td>\n",
              "    </tr>\n",
              "    <tr>\n",
              "      <th>categoria_DNI</th>\n",
              "      <td>0.340113</td>\n",
              "      <td>NaN</td>\n",
              "      <td>NaN</td>\n",
              "      <td>2.0</td>\n",
              "    </tr>\n",
              "    <tr>\n",
              "      <th>situacionBCRA_5.0</th>\n",
              "      <td>0.314825</td>\n",
              "      <td>NaN</td>\n",
              "      <td>NaN</td>\n",
              "      <td>2.0</td>\n",
              "    </tr>\n",
              "    <tr>\n",
              "      <th>tipoMora_M12</th>\n",
              "      <td>0.281592</td>\n",
              "      <td>NaN</td>\n",
              "      <td>NaN</td>\n",
              "      <td>2.0</td>\n",
              "    </tr>\n",
              "    <tr>\n",
              "      <th>tipoMora_M60</th>\n",
              "      <td>0.273955</td>\n",
              "      <td>NaN</td>\n",
              "      <td>NaN</td>\n",
              "      <td>2.0</td>\n",
              "    </tr>\n",
              "    <tr>\n",
              "      <th>tipoMora_M30</th>\n",
              "      <td>0.216817</td>\n",
              "      <td>NaN</td>\n",
              "      <td>NaN</td>\n",
              "      <td>2.0</td>\n",
              "    </tr>\n",
              "    <tr>\n",
              "      <th>tipoMora_M90</th>\n",
              "      <td>0.167826</td>\n",
              "      <td>NaN</td>\n",
              "      <td>NaN</td>\n",
              "      <td>2.0</td>\n",
              "    </tr>\n",
              "    <tr>\n",
              "      <th>CantidadCreditos</th>\n",
              "      <td>0.161373</td>\n",
              "      <td>NaN</td>\n",
              "      <td>NaN</td>\n",
              "      <td>50.0</td>\n",
              "    </tr>\n",
              "    <tr>\n",
              "      <th>situacionBCRA_4.0</th>\n",
              "      <td>0.125482</td>\n",
              "      <td>NaN</td>\n",
              "      <td>NaN</td>\n",
              "      <td>2.0</td>\n",
              "    </tr>\n",
              "    <tr>\n",
              "      <th>categoria_RECIBO</th>\n",
              "      <td>0.120052</td>\n",
              "      <td>NaN</td>\n",
              "      <td>NaN</td>\n",
              "      <td>2.0</td>\n",
              "    </tr>\n",
              "    <tr>\n",
              "      <th>categoria_JUBILADO</th>\n",
              "      <td>0.090709</td>\n",
              "      <td>NaN</td>\n",
              "      <td>NaN</td>\n",
              "      <td>2.0</td>\n",
              "    </tr>\n",
              "    <tr>\n",
              "      <th>situacionBCRA_3.0</th>\n",
              "      <td>0.044455</td>\n",
              "      <td>NaN</td>\n",
              "      <td>NaN</td>\n",
              "      <td>2.0</td>\n",
              "    </tr>\n",
              "  </tbody>\n",
              "</table>\n",
              "</div>\n",
              "      <button class=\"colab-df-convert\" onclick=\"convertToInteractive('df-760b3792-d392-4a91-9441-7c7be2b49bff')\"\n",
              "              title=\"Convert this dataframe to an interactive table.\"\n",
              "              style=\"display:none;\">\n",
              "\n",
              "  <svg xmlns=\"http://www.w3.org/2000/svg\" height=\"24px\"viewBox=\"0 0 24 24\"\n",
              "       width=\"24px\">\n",
              "    <path d=\"M0 0h24v24H0V0z\" fill=\"none\"/>\n",
              "    <path d=\"M18.56 5.44l.94 2.06.94-2.06 2.06-.94-2.06-.94-.94-2.06-.94 2.06-2.06.94zm-11 1L8.5 8.5l.94-2.06 2.06-.94-2.06-.94L8.5 2.5l-.94 2.06-2.06.94zm10 10l.94 2.06.94-2.06 2.06-.94-2.06-.94-.94-2.06-.94 2.06-2.06.94z\"/><path d=\"M17.41 7.96l-1.37-1.37c-.4-.4-.92-.59-1.43-.59-.52 0-1.04.2-1.43.59L10.3 9.45l-7.72 7.72c-.78.78-.78 2.05 0 2.83L4 21.41c.39.39.9.59 1.41.59.51 0 1.02-.2 1.41-.59l7.78-7.78 2.81-2.81c.8-.78.8-2.07 0-2.86zM5.41 20L4 18.59l7.72-7.72 1.47 1.35L5.41 20z\"/>\n",
              "  </svg>\n",
              "      </button>\n",
              "\n",
              "\n",
              "\n",
              "    <div id=\"df-fee9a529-f98e-4141-a2fa-863a5325b4d9\">\n",
              "      <button class=\"colab-df-quickchart\" onclick=\"quickchart('df-fee9a529-f98e-4141-a2fa-863a5325b4d9')\"\n",
              "              title=\"Suggest charts.\"\n",
              "              style=\"display:none;\">\n",
              "\n",
              "<svg xmlns=\"http://www.w3.org/2000/svg\" height=\"24px\"viewBox=\"0 0 24 24\"\n",
              "     width=\"24px\">\n",
              "    <g>\n",
              "        <path d=\"M19 3H5c-1.1 0-2 .9-2 2v14c0 1.1.9 2 2 2h14c1.1 0 2-.9 2-2V5c0-1.1-.9-2-2-2zM9 17H7v-7h2v7zm4 0h-2V7h2v10zm4 0h-2v-4h2v4z\"/>\n",
              "    </g>\n",
              "</svg>\n",
              "      </button>\n",
              "    </div>\n",
              "\n",
              "<style>\n",
              "  .colab-df-quickchart {\n",
              "    background-color: #E8F0FE;\n",
              "    border: none;\n",
              "    border-radius: 50%;\n",
              "    cursor: pointer;\n",
              "    display: none;\n",
              "    fill: #1967D2;\n",
              "    height: 32px;\n",
              "    padding: 0 0 0 0;\n",
              "    width: 32px;\n",
              "  }\n",
              "\n",
              "  .colab-df-quickchart:hover {\n",
              "    background-color: #E2EBFA;\n",
              "    box-shadow: 0px 1px 2px rgba(60, 64, 67, 0.3), 0px 1px 3px 1px rgba(60, 64, 67, 0.15);\n",
              "    fill: #174EA6;\n",
              "  }\n",
              "\n",
              "  [theme=dark] .colab-df-quickchart {\n",
              "    background-color: #3B4455;\n",
              "    fill: #D2E3FC;\n",
              "  }\n",
              "\n",
              "  [theme=dark] .colab-df-quickchart:hover {\n",
              "    background-color: #434B5C;\n",
              "    box-shadow: 0px 1px 3px 1px rgba(0, 0, 0, 0.15);\n",
              "    filter: drop-shadow(0px 1px 2px rgba(0, 0, 0, 0.3));\n",
              "    fill: #FFFFFF;\n",
              "  }\n",
              "</style>\n",
              "\n",
              "    <script>\n",
              "      async function quickchart(key) {\n",
              "        const containerElement = document.querySelector('#' + key);\n",
              "        const charts = await google.colab.kernel.invokeFunction(\n",
              "            'suggestCharts', [key], {});\n",
              "      }\n",
              "    </script>\n",
              "\n",
              "      <script>\n",
              "\n",
              "function displayQuickchartButton(domScope) {\n",
              "  let quickchartButtonEl =\n",
              "    domScope.querySelector('#df-fee9a529-f98e-4141-a2fa-863a5325b4d9 button.colab-df-quickchart');\n",
              "  quickchartButtonEl.style.display =\n",
              "    google.colab.kernel.accessAllowed ? 'block' : 'none';\n",
              "}\n",
              "\n",
              "        displayQuickchartButton(document);\n",
              "      </script>\n",
              "      <style>\n",
              "    .colab-df-container {\n",
              "      display:flex;\n",
              "      flex-wrap:wrap;\n",
              "      gap: 12px;\n",
              "    }\n",
              "\n",
              "    .colab-df-convert {\n",
              "      background-color: #E8F0FE;\n",
              "      border: none;\n",
              "      border-radius: 50%;\n",
              "      cursor: pointer;\n",
              "      display: none;\n",
              "      fill: #1967D2;\n",
              "      height: 32px;\n",
              "      padding: 0 0 0 0;\n",
              "      width: 32px;\n",
              "    }\n",
              "\n",
              "    .colab-df-convert:hover {\n",
              "      background-color: #E2EBFA;\n",
              "      box-shadow: 0px 1px 2px rgba(60, 64, 67, 0.3), 0px 1px 3px 1px rgba(60, 64, 67, 0.15);\n",
              "      fill: #174EA6;\n",
              "    }\n",
              "\n",
              "    [theme=dark] .colab-df-convert {\n",
              "      background-color: #3B4455;\n",
              "      fill: #D2E3FC;\n",
              "    }\n",
              "\n",
              "    [theme=dark] .colab-df-convert:hover {\n",
              "      background-color: #434B5C;\n",
              "      box-shadow: 0px 1px 3px 1px rgba(0, 0, 0, 0.15);\n",
              "      filter: drop-shadow(0px 1px 2px rgba(0, 0, 0, 0.3));\n",
              "      fill: #FFFFFF;\n",
              "    }\n",
              "  </style>\n",
              "\n",
              "      <script>\n",
              "        const buttonEl =\n",
              "          document.querySelector('#df-760b3792-d392-4a91-9441-7c7be2b49bff button.colab-df-convert');\n",
              "        buttonEl.style.display =\n",
              "          google.colab.kernel.accessAllowed ? 'block' : 'none';\n",
              "\n",
              "        async function convertToInteractive(key) {\n",
              "          const element = document.querySelector('#df-760b3792-d392-4a91-9441-7c7be2b49bff');\n",
              "          const dataTable =\n",
              "            await google.colab.kernel.invokeFunction('convertToInteractive',\n",
              "                                                     [key], {});\n",
              "          if (!dataTable) return;\n",
              "\n",
              "          const docLinkHtml = 'Like what you see? Visit the ' +\n",
              "            '<a target=\"_blank\" href=https://colab.research.google.com/notebooks/data_table.ipynb>data table notebook</a>'\n",
              "            + ' to learn more about interactive tables.';\n",
              "          element.innerHTML = '';\n",
              "          dataTable['output_type'] = 'display_data';\n",
              "          await google.colab.output.renderOutput(dataTable, element);\n",
              "          const docLink = document.createElement('div');\n",
              "          docLink.innerHTML = docLinkHtml;\n",
              "          element.appendChild(docLink);\n",
              "        }\n",
              "      </script>\n",
              "    </div>\n",
              "  </div>\n"
            ]
          },
          "metadata": {},
          "execution_count": 31
        }
      ]
    },
    {
      "cell_type": "markdown",
      "source": [
        "### If the IV statistic is:\n",
        "* Less than 0.02, then the predictor is not useful for modeling (separating the Goods from the Bads)\n",
        "* 0.02 to 0.1, then the predictor has only a weak relationship to the Goods/Bads odds ratio\n",
        "* 0.1 to 0.3, then the predictor has a medium strength relationship to the Goods/Bads odds ratio\n",
        "* 0.3 to 0.5, then the predictor has a strong relationship to the Goods/Bads odds ratio.\n",
        "* over 0.5, suspicious relationship (Check once)"
      ],
      "metadata": {
        "id": "t-EXg9wH4O90"
      }
    },
    {
      "cell_type": "code",
      "source": [
        "x_sampling_selected=x_sampling_selected.drop(['tipoMora_BPG','deuda','tipoMora_MPE','tipoMora_M18','tipoCliente_N'],axis=1)"
      ],
      "metadata": {
        "id": "_V1OTKYu2Pbr"
      },
      "execution_count": 32,
      "outputs": []
    },
    {
      "cell_type": "markdown",
      "source": [
        "# Split de datos"
      ],
      "metadata": {
        "id": "LUs6W_5tdoWg"
      }
    },
    {
      "cell_type": "code",
      "source": [
        "proporcion_test = 0.35\n",
        "#X_train,X_test,y_train,y_test= train_test_split(X_sampling,y_sampling,test_size=0.20,random_state=42)\n",
        "train, test = train_test_split(x_sampling_selected, test_size = proporcion_test, random_state = 42)\n",
        "\n",
        "tab_train = round(train.stb.freq(['moroso']), 2)\n",
        "tab_test = round(test.stb.freq(['moroso']), 2)\n"
      ],
      "metadata": {
        "id": "opJ7qb4rQ2gr"
      },
      "execution_count": 33,
      "outputs": []
    },
    {
      "cell_type": "markdown",
      "source": [
        "Feature selection (Wrapper mode)\n",
        "SelectFromModel -> selecting features based on importance weights"
      ],
      "metadata": {
        "id": "mHY_Gkku6HCH"
      }
    },
    {
      "cell_type": "code",
      "source": [
        "train.info()"
      ],
      "metadata": {
        "colab": {
          "base_uri": "https://localhost:8080/"
        },
        "id": "C4y-770l8zi_",
        "outputId": "dfa17477-94a5-4fe0-8c19-68bed59e41e9"
      },
      "execution_count": 34,
      "outputs": [
        {
          "output_type": "stream",
          "name": "stdout",
          "text": [
            "<class 'pandas.core.frame.DataFrame'>\n",
            "Int64Index: 175680 entries, 63744 to 87479\n",
            "Data columns (total 17 columns):\n",
            " #   Column                 Non-Null Count   Dtype   \n",
            "---  ------                 --------------   -----   \n",
            " 0   CantidadCreditos       175680 non-null  float64 \n",
            " 1   ingreso_mensual_total  175680 non-null  float64 \n",
            " 2   edad                   175680 non-null  float64 \n",
            " 3   dias_ultimo_credito    175680 non-null  float64 \n",
            " 4   moroso                 175680 non-null  category\n",
            " 5   tipoMora_M12           175680 non-null  int64   \n",
            " 6   tipoMora_M30           175680 non-null  int64   \n",
            " 7   tipoMora_M60           175680 non-null  int64   \n",
            " 8   tipoMora_M90           175680 non-null  int64   \n",
            " 9   tipoMora_MTP           175680 non-null  int64   \n",
            " 10  categoria_DNI          175680 non-null  int64   \n",
            " 11  categoria_JUBILADO     175680 non-null  int64   \n",
            " 12  categoria_RECIBO       175680 non-null  int64   \n",
            " 13  situacionBCRA_1.0      175680 non-null  int64   \n",
            " 14  situacionBCRA_3.0      175680 non-null  int64   \n",
            " 15  situacionBCRA_4.0      175680 non-null  int64   \n",
            " 16  situacionBCRA_5.0      175680 non-null  int64   \n",
            "dtypes: category(1), float64(4), int64(12)\n",
            "memory usage: 23.0 MB\n"
          ]
        }
      ]
    },
    {
      "cell_type": "code",
      "source": [
        "test.info()"
      ],
      "metadata": {
        "colab": {
          "base_uri": "https://localhost:8080/"
        },
        "id": "uzgFWDTPvwpP",
        "outputId": "d0b2d7f7-cbd7-4cb4-a13a-9a7042151f87"
      },
      "execution_count": 35,
      "outputs": [
        {
          "output_type": "stream",
          "name": "stdout",
          "text": [
            "<class 'pandas.core.frame.DataFrame'>\n",
            "Int64Index: 94598 entries, 183289 to 93896\n",
            "Data columns (total 17 columns):\n",
            " #   Column                 Non-Null Count  Dtype   \n",
            "---  ------                 --------------  -----   \n",
            " 0   CantidadCreditos       94598 non-null  float64 \n",
            " 1   ingreso_mensual_total  94598 non-null  float64 \n",
            " 2   edad                   94598 non-null  float64 \n",
            " 3   dias_ultimo_credito    94598 non-null  float64 \n",
            " 4   moroso                 94598 non-null  category\n",
            " 5   tipoMora_M12           94598 non-null  int64   \n",
            " 6   tipoMora_M30           94598 non-null  int64   \n",
            " 7   tipoMora_M60           94598 non-null  int64   \n",
            " 8   tipoMora_M90           94598 non-null  int64   \n",
            " 9   tipoMora_MTP           94598 non-null  int64   \n",
            " 10  categoria_DNI          94598 non-null  int64   \n",
            " 11  categoria_JUBILADO     94598 non-null  int64   \n",
            " 12  categoria_RECIBO       94598 non-null  int64   \n",
            " 13  situacionBCRA_1.0      94598 non-null  int64   \n",
            " 14  situacionBCRA_3.0      94598 non-null  int64   \n",
            " 15  situacionBCRA_4.0      94598 non-null  int64   \n",
            " 16  situacionBCRA_5.0      94598 non-null  int64   \n",
            "dtypes: category(1), float64(4), int64(12)\n",
            "memory usage: 12.4 MB\n"
          ]
        }
      ]
    },
    {
      "cell_type": "markdown",
      "source": [
        "# Regresion Logistica\n"
      ],
      "metadata": {
        "id": "lVphVP4JkEjD"
      }
    },
    {
      "cell_type": "code",
      "source": [
        "from sklearn.linear_model import LogisticRegression, RidgeClassifier\n",
        "from sklearn.metrics import log_loss, roc_auc_score, recall_score, precision_score, average_precision_score, f1_score, classification_report, accuracy_score\n"
      ],
      "metadata": {
        "id": "Mmw6CyuqQZwd"
      },
      "execution_count": 36,
      "outputs": []
    },
    {
      "cell_type": "code",
      "source": [
        "exclude_list=['moroso']\n",
        "features_use = [feat for feat in train.columns if feat not in exclude_list]\n",
        "len(features_use)"
      ],
      "metadata": {
        "colab": {
          "base_uri": "https://localhost:8080/"
        },
        "id": "z119Ti5dS9lX",
        "outputId": "798a10b7-e3bc-4f56-aa73-49f6b515e265"
      },
      "execution_count": 37,
      "outputs": [
        {
          "output_type": "execute_result",
          "data": {
            "text/plain": [
              "16"
            ]
          },
          "metadata": {},
          "execution_count": 37
        }
      ]
    },
    {
      "cell_type": "code",
      "source": [
        "lr = LogisticRegression(random_state = 42, max_iter = 200, C = 0.1, penalty = 'l2', solver = 'newton-cg', class_weight='balanced').fit(X = train[features_use],\n",
        "             y = train['moroso'] )\n"
      ],
      "metadata": {
        "id": "hNQEDzX6lP-9"
      },
      "execution_count": 38,
      "outputs": []
    },
    {
      "cell_type": "code",
      "source": [
        "def check_train_test_auc(x_train, y_train, x_test, y_test):\n",
        "    from sklearn.linear_model import LogisticRegression\n",
        "\n",
        "    lr = LogisticRegression(random_state = 42, max_iter = 200, C = 0.1, penalty = 'l2', solver = 'newton-cg', class_weight='balanced').fit(x_train, y_train)\n",
        "\n",
        "    pred_train = lr.predict_proba(x_train)[:,1] ##[:1] es que lo hace de a uno\n",
        "    lr.score(x_train, y_train) # mide accuracy\n",
        "\n",
        "    from toad.metrics import KS, AUC\n",
        "\n",
        "    print('train KS', KS(pred_train, y_train))\n",
        "    print('train AUC',  AUC(pred_train, y_train))\n",
        "\n",
        "    pred_OOT = lr.predict_proba(x_test)[:,1]\n",
        "    print('Test KS', KS(pred_OOT, y_test))\n",
        "    print('Test AUC', AUC(pred_OOT, y_test))\n",
        "\n",
        "    from sklearn.metrics import confusion_matrix, accuracy_score, roc_auc_score, RocCurveDisplay, classification_report\n",
        "    from sklearn.metrics import roc_curve, auc\n",
        "\n",
        "    ## Como plot_roc_curve no existe más, reemplacé por esto\n",
        "    y_pred_logistic = lr.decision_function(x_test)\n",
        "    logistic_fpr, logistic_tpr, threshold = roc_curve(y_test, y_pred_logistic)\n",
        "    auc_logistic = auc(logistic_fpr, logistic_tpr)\n",
        "    plt.figure(figsize=(5,5), dpi=100)\n",
        "    plt.plot(logistic_fpr, logistic_tpr, marker= '.', label='logistic (auc = %0.3f)' % auc_logistic)"
      ],
      "metadata": {
        "id": "c-Z8DaThTNtu"
      },
      "execution_count": null,
      "outputs": []
    },
    {
      "cell_type": "code",
      "execution_count": null,
      "metadata": {
        "id": "9e6d623e-cdfa-4374-a928-f75689d66cfa",
        "outputId": "40564d6d-eb7c-4a62-c34e-fac727af823c",
        "colab": {
          "base_uri": "https://localhost:8080/",
          "height": 521
        }
      },
      "outputs": [
        {
          "output_type": "stream",
          "name": "stdout",
          "text": [
            "train KS 0.6046964208999442\n",
            "train AUC 0.8809189358452066\n",
            "Test KS 0.6036942514387346\n",
            "Test AUC 0.8788982523489799\n"
          ]
        },
        {
          "output_type": "display_data",
          "data": {
            "text/plain": [
              "<Figure size 500x500 with 1 Axes>"
            ],
            "image/png": "[encoded data removed]"
          },
          "metadata": {}
        }
      ],
      "source": [
        "x_test=test[features_use]\n",
        "y_test=test['moroso']\n",
        "check_train_test_auc(x_train = train[features_use], y_train = train['moroso'],\n",
        "                     x_test = test[features_use] , y_test = test['moroso'])"
      ]
    },
    {
      "cell_type": "markdown",
      "source": [
        "## Analiza el modelo con test data"
      ],
      "metadata": {
        "id": "ki5bkOXx_TzQ"
      }
    },
    {
      "cell_type": "code",
      "source": [
        "test['CreditScore'] = (lr.predict_proba(test[features_use])[:, 1]*1000)\n",
        "test_probs= lr.predict_proba(test[features_use])[:, 1]\n",
        "#test_dos = lr.predict_proba(x_test)\n",
        "test_pred = lr.predict(x_test)"
      ],
      "metadata": {
        "id": "s66pMz-5weSH"
      },
      "execution_count": null,
      "outputs": []
    },
    {
      "cell_type": "code",
      "source": [
        "test.head()"
      ],
      "metadata": {
        "colab": {
          "base_uri": "https://localhost:8080/",
          "height": 270
        },
        "id": "m_1HE60JJ_sV",
        "outputId": "8b8f74d9-156b-4179-aa95-31a87c08bf94"
      },
      "execution_count": null,
      "outputs": [
        {
          "output_type": "execute_result",
          "data": {
            "text/plain": [
              "        CantidadCreditos  ingreso_mensual_total      edad  \\\n",
              "183289         -0.595398              -0.141598 -0.010184   \n",
              "183800         -0.595398              -0.141598 -1.235611   \n",
              "20114           0.566918              -0.001337  0.183305   \n",
              "131912         -0.595398              -0.141598 -1.171114   \n",
              "41860           1.341795              -0.141598  2.440670   \n",
              "\n",
              "        dias_ultimo_credito moroso  tipoMora_M12  tipoMora_M30  tipoMora_M60  \\\n",
              "183289            -0.421059      0             0             0             0   \n",
              "183800            -0.428054      0             0             0             0   \n",
              "20114             -0.966653      0             0             0             0   \n",
              "131912             0.537227      1             0             0             0   \n",
              "41860             -0.172744      1             0             0             0   \n",
              "\n",
              "        tipoMora_M90  tipoMora_MTP  categoria_DNI  categoria_JUBILADO  \\\n",
              "183289             0             0              1                   0   \n",
              "183800             0             0              1                   0   \n",
              "20114              0             0              0                   0   \n",
              "131912             0             0              1                   0   \n",
              "41860              0             0              1                   0   \n",
              "\n",
              "        categoria_RECIBO  situacionBCRA_1.0  situacionBCRA_3.0  \\\n",
              "183289                 0                  0                  0   \n",
              "183800                 0                  0                  0   \n",
              "20114                  1                  1                  0   \n",
              "131912                 0                  1                  0   \n",
              "41860                  0                  1                  0   \n",
              "\n",
              "        situacionBCRA_4.0  situacionBCRA_5.0  CreditScore  \n",
              "183289                  0                  0   519.118618  \n",
              "183800                  0                  0   688.303761  \n",
              "20114                   0                  0    58.859322  \n",
              "131912                  0                  0   606.459226  \n",
              "41860                   0                  0    62.698684  "
            ],
            "text/html": [
              "\n",
              "  <div id=\"df-c596146a-eb01-4a58-8c35-d59ffc9dbebe\">\n",
              "    <div class=\"colab-df-container\">\n",
              "      <div>\n",
              "<style scoped>\n",
              "    .dataframe tbody tr th:only-of-type {\n",
              "        vertical-align: middle;\n",
              "    }\n",
              "\n",
              "    .dataframe tbody tr th {\n",
              "        vertical-align: top;\n",
              "    }\n",
              "\n",
              "    .dataframe thead th {\n",
              "        text-align: right;\n",
              "    }\n",
              "</style>\n",
              "<table border=\"1\" class=\"dataframe\">\n",
              "  <thead>\n",
              "    <tr style=\"text-align: right;\">\n",
              "      <th></th>\n",
              "      <th>CantidadCreditos</th>\n",
              "      <th>ingreso_mensual_total</th>\n",
              "      <th>edad</th>\n",
              "      <th>dias_ultimo_credito</th>\n",
              "      <th>moroso</th>\n",
              "      <th>tipoMora_M12</th>\n",
              "      <th>tipoMora_M30</th>\n",
              "      <th>tipoMora_M60</th>\n",
              "      <th>tipoMora_M90</th>\n",
              "      <th>tipoMora_MTP</th>\n",
              "      <th>categoria_DNI</th>\n",
              "      <th>categoria_JUBILADO</th>\n",
              "      <th>categoria_RECIBO</th>\n",
              "      <th>situacionBCRA_1.0</th>\n",
              "      <th>situacionBCRA_3.0</th>\n",
              "      <th>situacionBCRA_4.0</th>\n",
              "      <th>situacionBCRA_5.0</th>\n",
              "      <th>CreditScore</th>\n",
              "    </tr>\n",
              "  </thead>\n",
              "  <tbody>\n",
              "    <tr>\n",
              "      <th>183289</th>\n",
              "      <td>-0.595398</td>\n",
              "      <td>-0.141598</td>\n",
              "      <td>-0.010184</td>\n",
              "      <td>-0.421059</td>\n",
              "      <td>0</td>\n",
              "      <td>0</td>\n",
              "      <td>0</td>\n",
              "      <td>0</td>\n",
              "      <td>0</td>\n",
              "      <td>0</td>\n",
              "      <td>1</td>\n",
              "      <td>0</td>\n",
              "      <td>0</td>\n",
              "      <td>0</td>\n",
              "      <td>0</td>\n",
              "      <td>0</td>\n",
              "      <td>0</td>\n",
              "      <td>519.118618</td>\n",
              "    </tr>\n",
              "    <tr>\n",
              "      <th>183800</th>\n",
              "      <td>-0.595398</td>\n",
              "      <td>-0.141598</td>\n",
              "      <td>-1.235611</td>\n",
              "      <td>-0.428054</td>\n",
              "      <td>0</td>\n",
              "      <td>0</td>\n",
              "      <td>0</td>\n",
              "      <td>0</td>\n",
              "      <td>0</td>\n",
              "      <td>0</td>\n",
              "      <td>1</td>\n",
              "      <td>0</td>\n",
              "      <td>0</td>\n",
              "      <td>0</td>\n",
              "      <td>0</td>\n",
              "      <td>0</td>\n",
              "      <td>0</td>\n",
              "      <td>688.303761</td>\n",
              "    </tr>\n",
              "    <tr>\n",
              "      <th>20114</th>\n",
              "      <td>0.566918</td>\n",
              "      <td>-0.001337</td>\n",
              "      <td>0.183305</td>\n",
              "      <td>-0.966653</td>\n",
              "      <td>0</td>\n",
              "      <td>0</td>\n",
              "      <td>0</td>\n",
              "      <td>0</td>\n",
              "      <td>0</td>\n",
              "      <td>0</td>\n",
              "      <td>0</td>\n",
              "      <td>0</td>\n",
              "      <td>1</td>\n",
              "      <td>1</td>\n",
              "      <td>0</td>\n",
              "      <td>0</td>\n",
              "      <td>0</td>\n",
              "      <td>58.859322</td>\n",
              "    </tr>\n",
              "    <tr>\n",
              "      <th>131912</th>\n",
              "      <td>-0.595398</td>\n",
              "      <td>-0.141598</td>\n",
              "      <td>-1.171114</td>\n",
              "      <td>0.537227</td>\n",
              "      <td>1</td>\n",
              "      <td>0</td>\n",
              "      <td>0</td>\n",
              "      <td>0</td>\n",
              "      <td>0</td>\n",
              "      <td>0</td>\n",
              "      <td>1</td>\n",
              "      <td>0</td>\n",
              "      <td>0</td>\n",
              "      <td>1</td>\n",
              "      <td>0</td>\n",
              "      <td>0</td>\n",
              "      <td>0</td>\n",
              "      <td>606.459226</td>\n",
              "    </tr>\n",
              "    <tr>\n",
              "      <th>41860</th>\n",
              "      <td>1.341795</td>\n",
              "      <td>-0.141598</td>\n",
              "      <td>2.440670</td>\n",
              "      <td>-0.172744</td>\n",
              "      <td>1</td>\n",
              "      <td>0</td>\n",
              "      <td>0</td>\n",
              "      <td>0</td>\n",
              "      <td>0</td>\n",
              "      <td>0</td>\n",
              "      <td>1</td>\n",
              "      <td>0</td>\n",
              "      <td>0</td>\n",
              "      <td>1</td>\n",
              "      <td>0</td>\n",
              "      <td>0</td>\n",
              "      <td>0</td>\n",
              "      <td>62.698684</td>\n",
              "    </tr>\n",
              "  </tbody>\n",
              "</table>\n",
              "</div>\n",
              "      <button class=\"colab-df-convert\" onclick=\"convertToInteractive('df-c596146a-eb01-4a58-8c35-d59ffc9dbebe')\"\n",
              "              title=\"Convert this dataframe to an interactive table.\"\n",
              "              style=\"display:none;\">\n",
              "        \n",
              "  <svg xmlns=\"http://www.w3.org/2000/svg\" height=\"24px\"viewBox=\"0 0 24 24\"\n",
              "       width=\"24px\">\n",
              "    <path d=\"M0 0h24v24H0V0z\" fill=\"none\"/>\n",
              "    <path d=\"M18.56 5.44l.94 2.06.94-2.06 2.06-.94-2.06-.94-.94-2.06-.94 2.06-2.06.94zm-11 1L8.5 8.5l.94-2.06 2.06-.94-2.06-.94L8.5 2.5l-.94 2.06-2.06.94zm10 10l.94 2.06.94-2.06 2.06-.94-2.06-.94-.94-2.06-.94 2.06-2.06.94z\"/><path d=\"M17.41 7.96l-1.37-1.37c-.4-.4-.92-.59-1.43-.59-.52 0-1.04.2-1.43.59L10.3 9.45l-7.72 7.72c-.78.78-.78 2.05 0 2.83L4 21.41c.39.39.9.59 1.41.59.51 0 1.02-.2 1.41-.59l7.78-7.78 2.81-2.81c.8-.78.8-2.07 0-2.86zM5.41 20L4 18.59l7.72-7.72 1.47 1.35L5.41 20z\"/>\n",
              "  </svg>\n",
              "      </button>\n",
              "      \n",
              "  <style>\n",
              "    .colab-df-container {\n",
              "      display:flex;\n",
              "      flex-wrap:wrap;\n",
              "      gap: 12px;\n",
              "    }\n",
              "\n",
              "    .colab-df-convert {\n",
              "      background-color: #E8F0FE;\n",
              "      border: none;\n",
              "      border-radius: 50%;\n",
              "      cursor: pointer;\n",
              "      display: none;\n",
              "      fill: #1967D2;\n",
              "      height: 32px;\n",
              "      padding: 0 0 0 0;\n",
              "      width: 32px;\n",
              "    }\n",
              "\n",
              "    .colab-df-convert:hover {\n",
              "      background-color: #E2EBFA;\n",
              "      box-shadow: 0px 1px 2px rgba(60, 64, 67, 0.3), 0px 1px 3px 1px rgba(60, 64, 67, 0.15);\n",
              "      fill: #174EA6;\n",
              "    }\n",
              "\n",
              "    [theme=dark] .colab-df-convert {\n",
              "      background-color: #3B4455;\n",
              "      fill: #D2E3FC;\n",
              "    }\n",
              "\n",
              "    [theme=dark] .colab-df-convert:hover {\n",
              "      background-color: #434B5C;\n",
              "      box-shadow: 0px 1px 3px 1px rgba(0, 0, 0, 0.15);\n",
              "      filter: drop-shadow(0px 1px 2px rgba(0, 0, 0, 0.3));\n",
              "      fill: #FFFFFF;\n",
              "    }\n",
              "  </style>\n",
              "\n",
              "      <script>\n",
              "        const buttonEl =\n",
              "          document.querySelector('#df-c596146a-eb01-4a58-8c35-d59ffc9dbebe button.colab-df-convert');\n",
              "        buttonEl.style.display =\n",
              "          google.colab.kernel.accessAllowed ? 'block' : 'none';\n",
              "\n",
              "        async function convertToInteractive(key) {\n",
              "          const element = document.querySelector('#df-c596146a-eb01-4a58-8c35-d59ffc9dbebe');\n",
              "          const dataTable =\n",
              "            await google.colab.kernel.invokeFunction('convertToInteractive',\n",
              "                                                     [key], {});\n",
              "          if (!dataTable) return;\n",
              "\n",
              "          const docLinkHtml = 'Like what you see? Visit the ' +\n",
              "            '<a target=\"_blank\" href=https://colab.research.google.com/notebooks/data_table.ipynb>data table notebook</a>'\n",
              "            + ' to learn more about interactive tables.';\n",
              "          element.innerHTML = '';\n",
              "          dataTable['output_type'] = 'display_data';\n",
              "          await google.colab.output.renderOutput(dataTable, element);\n",
              "          const docLink = document.createElement('div');\n",
              "          docLink.innerHTML = docLinkHtml;\n",
              "          element.appendChild(docLink);\n",
              "        }\n",
              "      </script>\n",
              "    </div>\n",
              "  </div>\n",
              "  "
            ]
          },
          "metadata": {},
          "execution_count": 83
        }
      ]
    },
    {
      "cell_type": "code",
      "source": [
        "print('Log loss = {:.5f}'.format(log_loss(y_test, test_probs)))\n",
        "print('AUC = {:.5f}'.format(roc_auc_score(y_test, test_probs)))\n",
        "print('Average Precision = {:.5f}'.format(average_precision_score(y_test, test_probs)))\n",
        "print('\\nUsing 0.5 as threshold:')\n",
        "print('Accuracy = {:.5f}'.format(accuracy_score(y_test, test_pred)))\n",
        "print('Precision = {:.5f}'.format(precision_score(y_test, test_pred)))\n",
        "print('Recall = {:.5f}'.format(recall_score(y_test, test_pred)))\n",
        "print('F1 score = {:.5f}'.format(f1_score(y_test, test_pred)))\n",
        "\n",
        "print('\\nClassification Report')\n",
        "print(classification_report(y_test, test_pred))"
      ],
      "metadata": {
        "colab": {
          "base_uri": "https://localhost:8080/"
        },
        "id": "FgfExucLlmxw",
        "outputId": "f26ed196-2559-4aac-c585-abaa4d200ffc"
      },
      "execution_count": null,
      "outputs": [
        {
          "output_type": "stream",
          "name": "stdout",
          "text": [
            "Log loss = 0.43571\n",
            "AUC = 0.87890\n",
            "Average Precision = 0.87394\n",
            "\n",
            "Using 0.5 as threshold:\n",
            "Accuracy = 0.80129\n",
            "Precision = 0.79528\n",
            "Recall = 0.80991\n",
            "F1 score = 0.80253\n",
            "\n",
            "Classification Report\n",
            "              precision    recall  f1-score   support\n",
            "\n",
            "           0       0.81      0.79      0.80     47435\n",
            "           1       0.80      0.81      0.80     47163\n",
            "\n",
            "    accuracy                           0.80     94598\n",
            "   macro avg       0.80      0.80      0.80     94598\n",
            "weighted avg       0.80      0.80      0.80     94598\n",
            "\n"
          ]
        }
      ]
    },
    {
      "cell_type": "code",
      "source": [
        "#from sklearn.metrics import plot_confusion_matrix\n",
        "\n",
        "print('Confusion Matrix')\n",
        "confusion_matrix(y_test, test_pred)"
      ],
      "metadata": {
        "colab": {
          "base_uri": "https://localhost:8080/"
        },
        "id": "Bgd0TD_Y8NDd",
        "outputId": "582ea16d-8ef2-407d-f50c-72589a521eb4"
      },
      "execution_count": null,
      "outputs": [
        {
          "output_type": "stream",
          "name": "stdout",
          "text": [
            "Confusion Matrix\n"
          ]
        },
        {
          "output_type": "execute_result",
          "data": {
            "text/plain": [
              "array([[37602,  9833],\n",
              "       [ 8965, 38198]])"
            ]
          },
          "metadata": {},
          "execution_count": 43
        }
      ]
    },
    {
      "cell_type": "code",
      "source": [
        "import math\n",
        "plt.figure(figsize = (12,10))\n",
        "w = 40\n",
        "n = math.ceil(( test['CreditScore'].max() - test['CreditScore'].min() ) / w )\n",
        "\n",
        "plt.hist(test[test.moroso == 1].CreditScore, alpha = 0.5, label = 'Default', bins = n)\n",
        "plt.hist(test[test.moroso == 0].CreditScore, alpha = 0.5, label = 'Buenos', bins = n)\n",
        "plt.legend(loc = 'upper left')\n",
        "plt.title('Credit Score Distribution: Test Set', size = 15)\n",
        "plt.show()"
      ],
      "metadata": {
        "colab": {
          "base_uri": "https://localhost:8080/",
          "height": 859
        },
        "id": "AjULuBO2AnVK",
        "outputId": "1e2d82ff-750f-4889-b336-80e0bba73d51"
      },
      "execution_count": null,
      "outputs": [
        {
          "output_type": "display_data",
          "data": {
            "text/plain": [
              "<Figure size 1200x1000 with 1 Axes>"
            ],
            "image/png": "[encoded data removed]"
          },
          "metadata": {}
        }
      ]
    }
  ]
}